{
 "cells": [
  {
   "cell_type": "code",
   "execution_count": 1,
   "metadata": {},
   "outputs": [],
   "source": [
    "from ultralytics import YOLO"
   ]
  },
  {
   "cell_type": "code",
   "execution_count": null,
   "metadata": {},
   "outputs": [
    {
     "name": "stdout",
     "output_type": "stream",
     "text": [
      "New https://pypi.org/project/ultralytics/8.3.73 available  Update with 'pip install -U ultralytics'\n",
      "Ultralytics 8.3.62  Python-3.12.7 torch-2.5.1 CUDA:0 (NVIDIA GeForce RTX 3070 Ti Laptop GPU, 8192MiB)\n",
      "\u001b[34m\u001b[1mengine\\trainer: \u001b[0mtask=segment, mode=train, model=C:/Users/jdhoc/Desktop/DOT Volunteer Project/scripts/runs/segment/train/weights/last.pt, data=C:/Users/jdhoc/Desktop/DOT Volunteer Project/data/labels/cool-roofs_filteredBldgs_randSub1/segment/segment.yaml, epochs=90, time=None, patience=20, batch=-1, imgsz=1024, save=True, save_period=-1, cache=disk, device=0, workers=8, project=None, name=train4, exist_ok=False, pretrained=True, optimizer=auto, verbose=True, seed=0, deterministic=True, single_cls=False, rect=False, cos_lr=False, close_mosaic=10, resume=False, amp=True, fraction=1.0, profile=False, freeze=None, multi_scale=False, overlap_mask=True, mask_ratio=4, dropout=0.0, val=True, split=val, save_json=False, save_hybrid=False, conf=None, iou=0.7, max_det=300, half=False, dnn=False, plots=True, source=None, vid_stride=1, stream_buffer=False, visualize=False, augment=False, agnostic_nms=False, classes=None, retina_masks=False, embed=None, show=False, save_frames=False, save_txt=False, save_conf=False, save_crop=False, show_labels=True, show_conf=True, show_boxes=True, line_width=None, format=torchscript, keras=False, optimize=False, int8=False, dynamic=False, simplify=True, opset=None, workspace=None, nms=False, lr0=0.01, lrf=0.01, momentum=0.937, weight_decay=0.0005, warmup_epochs=3.0, warmup_momentum=0.8, warmup_bias_lr=0.1, box=7.5, cls=0.5, dfl=1.5, pose=12.0, kobj=1.0, nbs=64, hsv_h=0.015, hsv_s=0.7, hsv_v=0.4, degrees=90.0, translate=0.1, scale=0.5, shear=0.0, perspective=0.0, flipud=0.25, fliplr=0.5, bgr=0.0, mosaic=1.0, mixup=0.0, copy_paste=0.0, copy_paste_mode=flip, auto_augment=randaugment, erasing=0.4, crop_fraction=1.0, cfg=None, tracker=botsort.yaml, save_dir=runs\\segment\\train4\n",
      "\n",
      "                   from  n    params  module                                       arguments                     \n",
      "  0                  -1  1       464  ultralytics.nn.modules.conv.Conv             [3, 16, 3, 2]                 \n",
      "  1                  -1  1      4672  ultralytics.nn.modules.conv.Conv             [16, 32, 3, 2]                \n",
      "  2                  -1  1      6640  ultralytics.nn.modules.block.C3k2            [32, 64, 1, False, 0.25]      \n",
      "  3                  -1  1     36992  ultralytics.nn.modules.conv.Conv             [64, 64, 3, 2]                \n",
      "  4                  -1  1     26080  ultralytics.nn.modules.block.C3k2            [64, 128, 1, False, 0.25]     \n",
      "  5                  -1  1    147712  ultralytics.nn.modules.conv.Conv             [128, 128, 3, 2]              \n",
      "  6                  -1  1     87040  ultralytics.nn.modules.block.C3k2            [128, 128, 1, True]           \n",
      "  7                  -1  1    295424  ultralytics.nn.modules.conv.Conv             [128, 256, 3, 2]              \n",
      "  8                  -1  1    346112  ultralytics.nn.modules.block.C3k2            [256, 256, 1, True]           \n",
      "  9                  -1  1    164608  ultralytics.nn.modules.block.SPPF            [256, 256, 5]                 \n",
      " 10                  -1  1    249728  ultralytics.nn.modules.block.C2PSA           [256, 256, 1]                 \n",
      " 11                  -1  1         0  torch.nn.modules.upsampling.Upsample         [None, 2, 'nearest']          \n",
      " 12             [-1, 6]  1         0  ultralytics.nn.modules.conv.Concat           [1]                           \n",
      " 13                  -1  1    111296  ultralytics.nn.modules.block.C3k2            [384, 128, 1, False]          \n",
      " 14                  -1  1         0  torch.nn.modules.upsampling.Upsample         [None, 2, 'nearest']          \n",
      " 15             [-1, 4]  1         0  ultralytics.nn.modules.conv.Concat           [1]                           \n",
      " 16                  -1  1     32096  ultralytics.nn.modules.block.C3k2            [256, 64, 1, False]           \n",
      " 17                  -1  1     36992  ultralytics.nn.modules.conv.Conv             [64, 64, 3, 2]                \n",
      " 18            [-1, 13]  1         0  ultralytics.nn.modules.conv.Concat           [1]                           \n",
      " 19                  -1  1     86720  ultralytics.nn.modules.block.C3k2            [192, 128, 1, False]          \n",
      " 20                  -1  1    147712  ultralytics.nn.modules.conv.Conv             [128, 128, 3, 2]              \n",
      " 21            [-1, 10]  1         0  ultralytics.nn.modules.conv.Concat           [1]                           \n",
      " 22                  -1  1    378880  ultralytics.nn.modules.block.C3k2            [384, 256, 1, True]           \n",
      " 23        [16, 19, 22]  1    683830  ultralytics.nn.modules.head.Segment          [2, 32, 64, [64, 128, 256]]   \n",
      "YOLO11n-seg summary: 355 layers, 2,842,998 parameters, 2,842,982 gradients\n",
      "\n",
      "Transferred 561/561 items from pretrained weights\n",
      "Freezing layer 'model.23.dfl.conv.weight'\n",
      "\u001b[34m\u001b[1mAMP: \u001b[0mrunning Automatic Mixed Precision (AMP) checks...\n",
      "\u001b[34m\u001b[1mAMP: \u001b[0mchecks passed \n"
     ]
    },
    {
     "name": "stderr",
     "output_type": "stream",
     "text": [
      "\u001b[34m\u001b[1mtrain: \u001b[0mScanning C:\\Users\\jdhoc\\Desktop\\DOT Volunteer Project\\data\\labels\\cool-roofs_filteredBldgs_randSub1\\segment\\labels\\train.cache... 1924 images, 0 backgrounds, 0 corrupt: 100%|██████████| 1924/1924 [00:00<?, ?it/s]"
     ]
    },
    {
     "name": "stdout",
     "output_type": "stream",
     "text": [
      "\u001b[34m\u001b[1mtrain: \u001b[0mWARNING  C:\\Users\\jdhoc\\Desktop\\DOT Volunteer Project\\data\\labels\\cool-roofs_filteredBldgs_randSub1\\segment\\images\\train\\NYCortho22_16147.jpg: 1 duplicate labels removed\n",
      "\u001b[34m\u001b[1mtrain: \u001b[0mWARNING  C:\\Users\\jdhoc\\Desktop\\DOT Volunteer Project\\data\\labels\\cool-roofs_filteredBldgs_randSub1\\segment\\images\\train\\NYCortho22_18022.jpg: 1 duplicate labels removed\n",
      "\u001b[34m\u001b[1mtrain: \u001b[0mWARNING  C:\\Users\\jdhoc\\Desktop\\DOT Volunteer Project\\data\\labels\\cool-roofs_filteredBldgs_randSub1\\segment\\images\\train\\NYCortho22_18037.jpg: 1 duplicate labels removed\n",
      "\u001b[34m\u001b[1mtrain: \u001b[0mWARNING  C:\\Users\\jdhoc\\Desktop\\DOT Volunteer Project\\data\\labels\\cool-roofs_filteredBldgs_randSub1\\segment\\images\\train\\NYCortho22_18959.jpg: 1 duplicate labels removed\n",
      "\u001b[34m\u001b[1mtrain: \u001b[0mWARNING  C:\\Users\\jdhoc\\Desktop\\DOT Volunteer Project\\data\\labels\\cool-roofs_filteredBldgs_randSub1\\segment\\images\\train\\NYCortho22_20402.jpg: 1 duplicate labels removed\n",
      "\u001b[34m\u001b[1mtrain: \u001b[0mWARNING  C:\\Users\\jdhoc\\Desktop\\DOT Volunteer Project\\data\\labels\\cool-roofs_filteredBldgs_randSub1\\segment\\images\\train\\NYCortho22_20556.jpg: 2 duplicate labels removed\n",
      "\u001b[34m\u001b[1mtrain: \u001b[0mWARNING  C:\\Users\\jdhoc\\Desktop\\DOT Volunteer Project\\data\\labels\\cool-roofs_filteredBldgs_randSub1\\segment\\images\\train\\NYCortho22_21310.jpg: 1 duplicate labels removed\n",
      "\u001b[34m\u001b[1mtrain: \u001b[0mWARNING  C:\\Users\\jdhoc\\Desktop\\DOT Volunteer Project\\data\\labels\\cool-roofs_filteredBldgs_randSub1\\segment\\images\\train\\NYCortho22_23303.jpg: 1 duplicate labels removed\n",
      "\u001b[34m\u001b[1mtrain: \u001b[0mWARNING  C:\\Users\\jdhoc\\Desktop\\DOT Volunteer Project\\data\\labels\\cool-roofs_filteredBldgs_randSub1\\segment\\images\\train\\NYCortho22_24343.jpg: 1 duplicate labels removed\n",
      "\u001b[34m\u001b[1mtrain: \u001b[0mWARNING  C:\\Users\\jdhoc\\Desktop\\DOT Volunteer Project\\data\\labels\\cool-roofs_filteredBldgs_randSub1\\segment\\images\\train\\NYCortho22_25605.jpg: 2 duplicate labels removed\n",
      "\u001b[34m\u001b[1mtrain: \u001b[0mWARNING  C:\\Users\\jdhoc\\Desktop\\DOT Volunteer Project\\data\\labels\\cool-roofs_filteredBldgs_randSub1\\segment\\images\\train\\NYCortho22_2731.jpg: 1 duplicate labels removed\n",
      "\u001b[34m\u001b[1mtrain: \u001b[0mWARNING  C:\\Users\\jdhoc\\Desktop\\DOT Volunteer Project\\data\\labels\\cool-roofs_filteredBldgs_randSub1\\segment\\images\\train\\NYCortho22_28016.jpg: 3 duplicate labels removed\n",
      "\u001b[34m\u001b[1mtrain: \u001b[0mWARNING  C:\\Users\\jdhoc\\Desktop\\DOT Volunteer Project\\data\\labels\\cool-roofs_filteredBldgs_randSub1\\segment\\images\\train\\NYCortho22_28925.jpg: 1 duplicate labels removed\n",
      "\u001b[34m\u001b[1mtrain: \u001b[0mWARNING  C:\\Users\\jdhoc\\Desktop\\DOT Volunteer Project\\data\\labels\\cool-roofs_filteredBldgs_randSub1\\segment\\images\\train\\NYCortho22_29527.jpg: 1 duplicate labels removed\n",
      "\u001b[34m\u001b[1mtrain: \u001b[0mWARNING  C:\\Users\\jdhoc\\Desktop\\DOT Volunteer Project\\data\\labels\\cool-roofs_filteredBldgs_randSub1\\segment\\images\\train\\NYCortho22_31356.jpg: 1 duplicate labels removed\n",
      "\u001b[34m\u001b[1mtrain: \u001b[0mWARNING  C:\\Users\\jdhoc\\Desktop\\DOT Volunteer Project\\data\\labels\\cool-roofs_filteredBldgs_randSub1\\segment\\images\\train\\NYCortho22_31959.jpg: 1 duplicate labels removed\n",
      "\u001b[34m\u001b[1mtrain: \u001b[0mWARNING  C:\\Users\\jdhoc\\Desktop\\DOT Volunteer Project\\data\\labels\\cool-roofs_filteredBldgs_randSub1\\segment\\images\\train\\NYCortho22_32891.jpg: 2 duplicate labels removed\n",
      "\u001b[34m\u001b[1mtrain: \u001b[0mWARNING  C:\\Users\\jdhoc\\Desktop\\DOT Volunteer Project\\data\\labels\\cool-roofs_filteredBldgs_randSub1\\segment\\images\\train\\NYCortho22_33798.jpg: 1 duplicate labels removed\n",
      "\u001b[34m\u001b[1mtrain: \u001b[0mWARNING  C:\\Users\\jdhoc\\Desktop\\DOT Volunteer Project\\data\\labels\\cool-roofs_filteredBldgs_randSub1\\segment\\images\\train\\NYCortho22_34990.jpg: 1 duplicate labels removed\n",
      "\u001b[34m\u001b[1mtrain: \u001b[0mWARNING  C:\\Users\\jdhoc\\Desktop\\DOT Volunteer Project\\data\\labels\\cool-roofs_filteredBldgs_randSub1\\segment\\images\\train\\NYCortho22_35040.jpg: 5 duplicate labels removed\n",
      "\u001b[34m\u001b[1mtrain: \u001b[0mWARNING  C:\\Users\\jdhoc\\Desktop\\DOT Volunteer Project\\data\\labels\\cool-roofs_filteredBldgs_randSub1\\segment\\images\\train\\NYCortho22_35056.jpg: 7 duplicate labels removed\n",
      "\u001b[34m\u001b[1mtrain: \u001b[0mWARNING  C:\\Users\\jdhoc\\Desktop\\DOT Volunteer Project\\data\\labels\\cool-roofs_filteredBldgs_randSub1\\segment\\images\\train\\NYCortho22_35292.jpg: 1 duplicate labels removed\n",
      "\u001b[34m\u001b[1mtrain: \u001b[0mWARNING  C:\\Users\\jdhoc\\Desktop\\DOT Volunteer Project\\data\\labels\\cool-roofs_filteredBldgs_randSub1\\segment\\images\\train\\NYCortho22_35320.jpg: 1 duplicate labels removed\n",
      "\u001b[34m\u001b[1mtrain: \u001b[0mWARNING  C:\\Users\\jdhoc\\Desktop\\DOT Volunteer Project\\data\\labels\\cool-roofs_filteredBldgs_randSub1\\segment\\images\\train\\NYCortho22_35341.jpg: 1 duplicate labels removed\n",
      "\u001b[34m\u001b[1mtrain: \u001b[0mWARNING  C:\\Users\\jdhoc\\Desktop\\DOT Volunteer Project\\data\\labels\\cool-roofs_filteredBldgs_randSub1\\segment\\images\\train\\NYCortho22_35897.jpg: 1 duplicate labels removed\n",
      "\u001b[34m\u001b[1mtrain: \u001b[0mWARNING  C:\\Users\\jdhoc\\Desktop\\DOT Volunteer Project\\data\\labels\\cool-roofs_filteredBldgs_randSub1\\segment\\images\\train\\NYCortho22_36806.jpg: 1 duplicate labels removed\n",
      "\u001b[34m\u001b[1mtrain: \u001b[0mWARNING  C:\\Users\\jdhoc\\Desktop\\DOT Volunteer Project\\data\\labels\\cool-roofs_filteredBldgs_randSub1\\segment\\images\\train\\NYCortho22_37190.jpg: 3 duplicate labels removed\n",
      "\u001b[34m\u001b[1mtrain: \u001b[0mWARNING  C:\\Users\\jdhoc\\Desktop\\DOT Volunteer Project\\data\\labels\\cool-roofs_filteredBldgs_randSub1\\segment\\images\\train\\NYCortho22_37494.jpg: 1 duplicate labels removed\n",
      "\u001b[34m\u001b[1mtrain: \u001b[0mWARNING  C:\\Users\\jdhoc\\Desktop\\DOT Volunteer Project\\data\\labels\\cool-roofs_filteredBldgs_randSub1\\segment\\images\\train\\NYCortho22_38041.jpg: 1 duplicate labels removed\n",
      "\u001b[34m\u001b[1mtrain: \u001b[0mWARNING  C:\\Users\\jdhoc\\Desktop\\DOT Volunteer Project\\data\\labels\\cool-roofs_filteredBldgs_randSub1\\segment\\images\\train\\NYCortho22_38054.jpg: 1 duplicate labels removed\n",
      "\u001b[34m\u001b[1mtrain: \u001b[0mWARNING  C:\\Users\\jdhoc\\Desktop\\DOT Volunteer Project\\data\\labels\\cool-roofs_filteredBldgs_randSub1\\segment\\images\\train\\NYCortho22_38059.jpg: 1 duplicate labels removed\n",
      "\u001b[34m\u001b[1mtrain: \u001b[0mWARNING  C:\\Users\\jdhoc\\Desktop\\DOT Volunteer Project\\data\\labels\\cool-roofs_filteredBldgs_randSub1\\segment\\images\\train\\NYCortho22_40740.jpg: 1 duplicate labels removed\n",
      "\u001b[34m\u001b[1mtrain: \u001b[0mWARNING  C:\\Users\\jdhoc\\Desktop\\DOT Volunteer Project\\data\\labels\\cool-roofs_filteredBldgs_randSub1\\segment\\images\\train\\NYCortho22_40790.jpg: 1 duplicate labels removed\n",
      "\u001b[34m\u001b[1mtrain: \u001b[0mWARNING  C:\\Users\\jdhoc\\Desktop\\DOT Volunteer Project\\data\\labels\\cool-roofs_filteredBldgs_randSub1\\segment\\images\\train\\NYCortho22_41069.jpg: 2 duplicate labels removed\n",
      "\u001b[34m\u001b[1mtrain: \u001b[0mWARNING  C:\\Users\\jdhoc\\Desktop\\DOT Volunteer Project\\data\\labels\\cool-roofs_filteredBldgs_randSub1\\segment\\images\\train\\NYCortho22_41700.jpg: 2 duplicate labels removed\n",
      "\u001b[34m\u001b[1mtrain: \u001b[0mWARNING  C:\\Users\\jdhoc\\Desktop\\DOT Volunteer Project\\data\\labels\\cool-roofs_filteredBldgs_randSub1\\segment\\images\\train\\NYCortho22_41999.jpg: 2 duplicate labels removed\n",
      "\u001b[34m\u001b[1mtrain: \u001b[0mWARNING  C:\\Users\\jdhoc\\Desktop\\DOT Volunteer Project\\data\\labels\\cool-roofs_filteredBldgs_randSub1\\segment\\images\\train\\NYCortho22_42564.jpg: 1 duplicate labels removed\n",
      "\u001b[34m\u001b[1mtrain: \u001b[0mWARNING  C:\\Users\\jdhoc\\Desktop\\DOT Volunteer Project\\data\\labels\\cool-roofs_filteredBldgs_randSub1\\segment\\images\\train\\NYCortho22_42878.jpg: 1 duplicate labels removed\n",
      "\u001b[34m\u001b[1mtrain: \u001b[0mWARNING  C:\\Users\\jdhoc\\Desktop\\DOT Volunteer Project\\data\\labels\\cool-roofs_filteredBldgs_randSub1\\segment\\images\\train\\NYCortho22_42904.jpg: 1 duplicate labels removed\n",
      "\u001b[34m\u001b[1mtrain: \u001b[0mWARNING  C:\\Users\\jdhoc\\Desktop\\DOT Volunteer Project\\data\\labels\\cool-roofs_filteredBldgs_randSub1\\segment\\images\\train\\NYCortho22_42905.jpg: 2 duplicate labels removed\n",
      "\u001b[34m\u001b[1mtrain: \u001b[0mWARNING  C:\\Users\\jdhoc\\Desktop\\DOT Volunteer Project\\data\\labels\\cool-roofs_filteredBldgs_randSub1\\segment\\images\\train\\NYCortho22_42965.jpg: 1 duplicate labels removed\n",
      "\u001b[34m\u001b[1mtrain: \u001b[0mWARNING  C:\\Users\\jdhoc\\Desktop\\DOT Volunteer Project\\data\\labels\\cool-roofs_filteredBldgs_randSub1\\segment\\images\\train\\NYCortho22_43274.jpg: 2 duplicate labels removed\n",
      "\u001b[34m\u001b[1mtrain: \u001b[0mWARNING  C:\\Users\\jdhoc\\Desktop\\DOT Volunteer Project\\data\\labels\\cool-roofs_filteredBldgs_randSub1\\segment\\images\\train\\NYCortho22_44103.jpg: 1 duplicate labels removed\n",
      "\u001b[34m\u001b[1mtrain: \u001b[0mWARNING  C:\\Users\\jdhoc\\Desktop\\DOT Volunteer Project\\data\\labels\\cool-roofs_filteredBldgs_randSub1\\segment\\images\\train\\NYCortho22_44121.jpg: 1 duplicate labels removed\n",
      "\u001b[34m\u001b[1mtrain: \u001b[0mWARNING  C:\\Users\\jdhoc\\Desktop\\DOT Volunteer Project\\data\\labels\\cool-roofs_filteredBldgs_randSub1\\segment\\images\\train\\NYCortho22_44404.jpg: 3 duplicate labels removed\n",
      "\u001b[34m\u001b[1mtrain: \u001b[0mWARNING  C:\\Users\\jdhoc\\Desktop\\DOT Volunteer Project\\data\\labels\\cool-roofs_filteredBldgs_randSub1\\segment\\images\\train\\NYCortho22_44689.jpg: 2 duplicate labels removed\n",
      "\u001b[34m\u001b[1mtrain: \u001b[0mWARNING  C:\\Users\\jdhoc\\Desktop\\DOT Volunteer Project\\data\\labels\\cool-roofs_filteredBldgs_randSub1\\segment\\images\\train\\NYCortho22_45318.jpg: 1 duplicate labels removed\n",
      "\u001b[34m\u001b[1mtrain: \u001b[0mWARNING  C:\\Users\\jdhoc\\Desktop\\DOT Volunteer Project\\data\\labels\\cool-roofs_filteredBldgs_randSub1\\segment\\images\\train\\NYCortho22_45616.jpg: 1 duplicate labels removed\n",
      "\u001b[34m\u001b[1mtrain: \u001b[0mWARNING  C:\\Users\\jdhoc\\Desktop\\DOT Volunteer Project\\data\\labels\\cool-roofs_filteredBldgs_randSub1\\segment\\images\\train\\NYCortho22_45916.jpg: 1 duplicate labels removed\n",
      "\u001b[34m\u001b[1mtrain: \u001b[0mWARNING  C:\\Users\\jdhoc\\Desktop\\DOT Volunteer Project\\data\\labels\\cool-roofs_filteredBldgs_randSub1\\segment\\images\\train\\NYCortho22_46221.jpg: 1 duplicate labels removed\n",
      "\u001b[34m\u001b[1mtrain: \u001b[0mWARNING  C:\\Users\\jdhoc\\Desktop\\DOT Volunteer Project\\data\\labels\\cool-roofs_filteredBldgs_randSub1\\segment\\images\\train\\NYCortho22_46307.jpg: 2 duplicate labels removed\n",
      "\u001b[34m\u001b[1mtrain: \u001b[0mWARNING  C:\\Users\\jdhoc\\Desktop\\DOT Volunteer Project\\data\\labels\\cool-roofs_filteredBldgs_randSub1\\segment\\images\\train\\NYCortho22_46518.jpg: 1 duplicate labels removed\n",
      "\u001b[34m\u001b[1mtrain: \u001b[0mWARNING  C:\\Users\\jdhoc\\Desktop\\DOT Volunteer Project\\data\\labels\\cool-roofs_filteredBldgs_randSub1\\segment\\images\\train\\NYCortho22_47427.jpg: 1 duplicate labels removed\n",
      "\u001b[34m\u001b[1mtrain: \u001b[0mWARNING  C:\\Users\\jdhoc\\Desktop\\DOT Volunteer Project\\data\\labels\\cool-roofs_filteredBldgs_randSub1\\segment\\images\\train\\NYCortho22_47434.jpg: 1 duplicate labels removed\n",
      "\u001b[34m\u001b[1mtrain: \u001b[0mWARNING  C:\\Users\\jdhoc\\Desktop\\DOT Volunteer Project\\data\\labels\\cool-roofs_filteredBldgs_randSub1\\segment\\images\\train\\NYCortho22_47440.jpg: 1 duplicate labels removed\n",
      "\u001b[34m\u001b[1mtrain: \u001b[0mWARNING  C:\\Users\\jdhoc\\Desktop\\DOT Volunteer Project\\data\\labels\\cool-roofs_filteredBldgs_randSub1\\segment\\images\\train\\NYCortho22_48651.jpg: 1 duplicate labels removed\n",
      "\u001b[34m\u001b[1mtrain: \u001b[0mWARNING  C:\\Users\\jdhoc\\Desktop\\DOT Volunteer Project\\data\\labels\\cool-roofs_filteredBldgs_randSub1\\segment\\images\\train\\NYCortho22_48956.jpg: 1 duplicate labels removed\n",
      "\u001b[34m\u001b[1mtrain: \u001b[0mWARNING  C:\\Users\\jdhoc\\Desktop\\DOT Volunteer Project\\data\\labels\\cool-roofs_filteredBldgs_randSub1\\segment\\images\\train\\NYCortho22_49228.jpg: 2 duplicate labels removed\n",
      "\u001b[34m\u001b[1mtrain: \u001b[0mWARNING  C:\\Users\\jdhoc\\Desktop\\DOT Volunteer Project\\data\\labels\\cool-roofs_filteredBldgs_randSub1\\segment\\images\\train\\NYCortho22_49531.jpg: 1 duplicate labels removed\n",
      "\u001b[34m\u001b[1mtrain: \u001b[0mWARNING  C:\\Users\\jdhoc\\Desktop\\DOT Volunteer Project\\data\\labels\\cool-roofs_filteredBldgs_randSub1\\segment\\images\\train\\NYCortho22_49967.jpg: 4 duplicate labels removed\n",
      "\u001b[34m\u001b[1mtrain: \u001b[0mWARNING  C:\\Users\\jdhoc\\Desktop\\DOT Volunteer Project\\data\\labels\\cool-roofs_filteredBldgs_randSub1\\segment\\images\\train\\NYCortho22_50140.jpg: 1 duplicate labels removed\n",
      "\u001b[34m\u001b[1mtrain: \u001b[0mWARNING  C:\\Users\\jdhoc\\Desktop\\DOT Volunteer Project\\data\\labels\\cool-roofs_filteredBldgs_randSub1\\segment\\images\\train\\NYCortho22_50212.jpg: 1 duplicate labels removed\n",
      "\u001b[34m\u001b[1mtrain: \u001b[0mWARNING  C:\\Users\\jdhoc\\Desktop\\DOT Volunteer Project\\data\\labels\\cool-roofs_filteredBldgs_randSub1\\segment\\images\\train\\NYCortho22_50468.jpg: 1 duplicate labels removed\n",
      "\u001b[34m\u001b[1mtrain: \u001b[0mWARNING  C:\\Users\\jdhoc\\Desktop\\DOT Volunteer Project\\data\\labels\\cool-roofs_filteredBldgs_randSub1\\segment\\images\\train\\NYCortho22_53169.jpg: 2 duplicate labels removed\n",
      "\u001b[34m\u001b[1mtrain: \u001b[0mWARNING  C:\\Users\\jdhoc\\Desktop\\DOT Volunteer Project\\data\\labels\\cool-roofs_filteredBldgs_randSub1\\segment\\images\\train\\NYCortho22_53495.jpg: 1 duplicate labels removed\n",
      "\u001b[34m\u001b[1mtrain: \u001b[0mWARNING  C:\\Users\\jdhoc\\Desktop\\DOT Volunteer Project\\data\\labels\\cool-roofs_filteredBldgs_randSub1\\segment\\images\\train\\NYCortho22_54131.jpg: 1 duplicate labels removed\n",
      "\u001b[34m\u001b[1mtrain: \u001b[0mWARNING  C:\\Users\\jdhoc\\Desktop\\DOT Volunteer Project\\data\\labels\\cool-roofs_filteredBldgs_randSub1\\segment\\images\\train\\NYCortho22_54404.jpg: 1 duplicate labels removed\n",
      "\u001b[34m\u001b[1mtrain: \u001b[0mWARNING  C:\\Users\\jdhoc\\Desktop\\DOT Volunteer Project\\data\\labels\\cool-roofs_filteredBldgs_randSub1\\segment\\images\\train\\NYCortho22_54454.jpg: 1 duplicate labels removed\n",
      "\u001b[34m\u001b[1mtrain: \u001b[0mWARNING  C:\\Users\\jdhoc\\Desktop\\DOT Volunteer Project\\data\\labels\\cool-roofs_filteredBldgs_randSub1\\segment\\images\\train\\NYCortho22_55060.jpg: 1 duplicate labels removed\n",
      "\u001b[34m\u001b[1mtrain: \u001b[0mWARNING  C:\\Users\\jdhoc\\Desktop\\DOT Volunteer Project\\data\\labels\\cool-roofs_filteredBldgs_randSub1\\segment\\images\\train\\NYCortho22_55586.jpg: 1 duplicate labels removed\n",
      "\u001b[34m\u001b[1mtrain: \u001b[0mWARNING  C:\\Users\\jdhoc\\Desktop\\DOT Volunteer Project\\data\\labels\\cool-roofs_filteredBldgs_randSub1\\segment\\images\\train\\NYCortho22_55592.jpg: 4 duplicate labels removed\n",
      "\u001b[34m\u001b[1mtrain: \u001b[0mWARNING  C:\\Users\\jdhoc\\Desktop\\DOT Volunteer Project\\data\\labels\\cool-roofs_filteredBldgs_randSub1\\segment\\images\\train\\NYCortho22_55662.jpg: 1 duplicate labels removed\n",
      "\u001b[34m\u001b[1mtrain: \u001b[0mWARNING  C:\\Users\\jdhoc\\Desktop\\DOT Volunteer Project\\data\\labels\\cool-roofs_filteredBldgs_randSub1\\segment\\images\\train\\NYCortho22_55679.jpg: 1 duplicate labels removed\n",
      "\u001b[34m\u001b[1mtrain: \u001b[0mWARNING  C:\\Users\\jdhoc\\Desktop\\DOT Volunteer Project\\data\\labels\\cool-roofs_filteredBldgs_randSub1\\segment\\images\\train\\NYCortho22_55960.jpg: 1 duplicate labels removed\n",
      "\u001b[34m\u001b[1mtrain: \u001b[0mWARNING  C:\\Users\\jdhoc\\Desktop\\DOT Volunteer Project\\data\\labels\\cool-roofs_filteredBldgs_randSub1\\segment\\images\\train\\NYCortho22_56206.jpg: 2 duplicate labels removed\n",
      "\u001b[34m\u001b[1mtrain: \u001b[0mWARNING  C:\\Users\\jdhoc\\Desktop\\DOT Volunteer Project\\data\\labels\\cool-roofs_filteredBldgs_randSub1\\segment\\images\\train\\NYCortho22_56230.jpg: 1 duplicate labels removed\n",
      "\u001b[34m\u001b[1mtrain: \u001b[0mWARNING  C:\\Users\\jdhoc\\Desktop\\DOT Volunteer Project\\data\\labels\\cool-roofs_filteredBldgs_randSub1\\segment\\images\\train\\NYCortho22_56231.jpg: 1 duplicate labels removed\n",
      "\u001b[34m\u001b[1mtrain: \u001b[0mWARNING  C:\\Users\\jdhoc\\Desktop\\DOT Volunteer Project\\data\\labels\\cool-roofs_filteredBldgs_randSub1\\segment\\images\\train\\NYCortho22_56285.jpg: 1 duplicate labels removed\n",
      "\u001b[34m\u001b[1mtrain: \u001b[0mWARNING  C:\\Users\\jdhoc\\Desktop\\DOT Volunteer Project\\data\\labels\\cool-roofs_filteredBldgs_randSub1\\segment\\images\\train\\NYCortho22_56590.jpg: 1 duplicate labels removed\n",
      "\u001b[34m\u001b[1mtrain: \u001b[0mWARNING  C:\\Users\\jdhoc\\Desktop\\DOT Volunteer Project\\data\\labels\\cool-roofs_filteredBldgs_randSub1\\segment\\images\\train\\NYCortho22_56901.jpg: 1 duplicate labels removed\n",
      "\u001b[34m\u001b[1mtrain: \u001b[0mWARNING  C:\\Users\\jdhoc\\Desktop\\DOT Volunteer Project\\data\\labels\\cool-roofs_filteredBldgs_randSub1\\segment\\images\\train\\NYCortho22_57127.jpg: 3 duplicate labels removed\n",
      "\u001b[34m\u001b[1mtrain: \u001b[0mWARNING  C:\\Users\\jdhoc\\Desktop\\DOT Volunteer Project\\data\\labels\\cool-roofs_filteredBldgs_randSub1\\segment\\images\\train\\NYCortho22_57497.jpg: 1 duplicate labels removed\n",
      "\u001b[34m\u001b[1mtrain: \u001b[0mWARNING  C:\\Users\\jdhoc\\Desktop\\DOT Volunteer Project\\data\\labels\\cool-roofs_filteredBldgs_randSub1\\segment\\images\\train\\NYCortho22_57711.jpg: 1 duplicate labels removed\n",
      "\u001b[34m\u001b[1mtrain: \u001b[0mWARNING  C:\\Users\\jdhoc\\Desktop\\DOT Volunteer Project\\data\\labels\\cool-roofs_filteredBldgs_randSub1\\segment\\images\\train\\NYCortho22_57752.jpg: 1 duplicate labels removed\n",
      "\u001b[34m\u001b[1mtrain: \u001b[0mWARNING  C:\\Users\\jdhoc\\Desktop\\DOT Volunteer Project\\data\\labels\\cool-roofs_filteredBldgs_randSub1\\segment\\images\\train\\NYCortho22_58023.jpg: 2 duplicate labels removed\n",
      "\u001b[34m\u001b[1mtrain: \u001b[0mWARNING  C:\\Users\\jdhoc\\Desktop\\DOT Volunteer Project\\data\\labels\\cool-roofs_filteredBldgs_randSub1\\segment\\images\\train\\NYCortho22_58960.jpg: 1 duplicate labels removed\n",
      "\u001b[34m\u001b[1mtrain: \u001b[0mWARNING  C:\\Users\\jdhoc\\Desktop\\DOT Volunteer Project\\data\\labels\\cool-roofs_filteredBldgs_randSub1\\segment\\images\\train\\NYCortho22_59913.jpg: 1 duplicate labels removed\n",
      "\u001b[34m\u001b[1mtrain: \u001b[0mWARNING  C:\\Users\\jdhoc\\Desktop\\DOT Volunteer Project\\data\\labels\\cool-roofs_filteredBldgs_randSub1\\segment\\images\\train\\NYCortho22_61091.jpg: 4 duplicate labels removed\n",
      "\u001b[34m\u001b[1mtrain: \u001b[0mWARNING  C:\\Users\\jdhoc\\Desktop\\DOT Volunteer Project\\data\\labels\\cool-roofs_filteredBldgs_randSub1\\segment\\images\\train\\NYCortho22_61359.jpg: 1 duplicate labels removed\n",
      "\u001b[34m\u001b[1mtrain: \u001b[0mWARNING  C:\\Users\\jdhoc\\Desktop\\DOT Volunteer Project\\data\\labels\\cool-roofs_filteredBldgs_randSub1\\segment\\images\\train\\NYCortho22_62300.jpg: 2 duplicate labels removed\n",
      "\u001b[34m\u001b[1mtrain: \u001b[0mWARNING  C:\\Users\\jdhoc\\Desktop\\DOT Volunteer Project\\data\\labels\\cool-roofs_filteredBldgs_randSub1\\segment\\images\\train\\NYCortho22_66521.jpg: 1 duplicate labels removed\n",
      "\u001b[34m\u001b[1mtrain: \u001b[0mWARNING  C:\\Users\\jdhoc\\Desktop\\DOT Volunteer Project\\data\\labels\\cool-roofs_filteredBldgs_randSub1\\segment\\images\\train\\NYCortho22_66558.jpg: 2 duplicate labels removed\n",
      "\u001b[34m\u001b[1mtrain: \u001b[0mWARNING  C:\\Users\\jdhoc\\Desktop\\DOT Volunteer Project\\data\\labels\\cool-roofs_filteredBldgs_randSub1\\segment\\images\\train\\NYCortho22_67184.jpg: 1 duplicate labels removed\n",
      "\u001b[34m\u001b[1mtrain: \u001b[0mWARNING  C:\\Users\\jdhoc\\Desktop\\DOT Volunteer Project\\data\\labels\\cool-roofs_filteredBldgs_randSub1\\segment\\images\\train\\NYCortho22_67431.jpg: 1 duplicate labels removed\n",
      "\u001b[34m\u001b[1mtrain: \u001b[0mWARNING  C:\\Users\\jdhoc\\Desktop\\DOT Volunteer Project\\data\\labels\\cool-roofs_filteredBldgs_randSub1\\segment\\images\\train\\NYCortho22_68663.jpg: 1 duplicate labels removed\n",
      "\u001b[34m\u001b[1mtrain: \u001b[0mWARNING  C:\\Users\\jdhoc\\Desktop\\DOT Volunteer Project\\data\\labels\\cool-roofs_filteredBldgs_randSub1\\segment\\images\\train\\NYCortho22_68677.jpg: 1 duplicate labels removed\n",
      "\u001b[34m\u001b[1mtrain: \u001b[0mWARNING  C:\\Users\\jdhoc\\Desktop\\DOT Volunteer Project\\data\\labels\\cool-roofs_filteredBldgs_randSub1\\segment\\images\\train\\NYCortho22_69579.jpg: 1 duplicate labels removed\n",
      "\u001b[34m\u001b[1mtrain: \u001b[0mWARNING  C:\\Users\\jdhoc\\Desktop\\DOT Volunteer Project\\data\\labels\\cool-roofs_filteredBldgs_randSub1\\segment\\images\\train\\NYCortho22_71378.jpg: 1 duplicate labels removed\n",
      "\u001b[34m\u001b[1mtrain: \u001b[0mWARNING  C:\\Users\\jdhoc\\Desktop\\DOT Volunteer Project\\data\\labels\\cool-roofs_filteredBldgs_randSub1\\segment\\images\\train\\NYCortho22_75948.jpg: 1 duplicate labels removed\n",
      "\u001b[34m\u001b[1mtrain: \u001b[0mWARNING  C:\\Users\\jdhoc\\Desktop\\DOT Volunteer Project\\data\\labels\\cool-roofs_filteredBldgs_randSub1\\segment\\images\\train\\NYCortho22_78968.jpg: 1 duplicate labels removed\n",
      "\u001b[34m\u001b[1mtrain: \u001b[0mWARNING  C:\\Users\\jdhoc\\Desktop\\DOT Volunteer Project\\data\\labels\\cool-roofs_filteredBldgs_randSub1\\segment\\images\\train\\NYCortho22_81712.jpg: 2 duplicate labels removed\n",
      "\u001b[34m\u001b[1mtrain: \u001b[0mWARNING  C:\\Users\\jdhoc\\Desktop\\DOT Volunteer Project\\data\\labels\\cool-roofs_filteredBldgs_randSub1\\segment\\images\\train\\NYCortho22_82609.jpg: 2 duplicate labels removed\n",
      "\u001b[34m\u001b[1mtrain: \u001b[0mWARNING  C:\\Users\\jdhoc\\Desktop\\DOT Volunteer Project\\data\\labels\\cool-roofs_filteredBldgs_randSub1\\segment\\images\\train\\NYCortho22_83229.jpg: 1 duplicate labels removed\n"
     ]
    },
    {
     "name": "stderr",
     "output_type": "stream",
     "text": [
      "\n",
      "\u001b[34m\u001b[1mtrain: \u001b[0mCaching images (5.6GB Disk): 100%|██████████| 1924/1924 [00:00<00:00, 28382.05it/s]"
     ]
    },
    {
     "name": "stdout",
     "output_type": "stream",
     "text": [
      "\u001b[34m\u001b[1mAutoBatch: \u001b[0mComputing optimal batch size for imgsz=1024 at 60.0% CUDA memory utilization.\n",
      "\u001b[34m\u001b[1mAutoBatch: \u001b[0mCUDA:0 (NVIDIA GeForce RTX 3070 Ti Laptop GPU) 8.00G total, 1.23G reserved, 1.20G allocated, 5.58G free\n"
     ]
    },
    {
     "name": "stderr",
     "output_type": "stream",
     "text": [
      "\n"
     ]
    },
    {
     "name": "stdout",
     "output_type": "stream",
     "text": [
      "      Params      GFLOPs  GPU_mem (GB)  forward (ms) backward (ms)                   input                  output\n",
      "     2842998           0         3.355         964.3           nan      (1, 3, 1024, 1024)                    list\n",
      "     2842998           0         4.668         213.4           nan      (2, 3, 1024, 1024)                    list\n",
      "     2842998           0         6.665         168.3           nan      (4, 3, 1024, 1024)                    list\n",
      "     2842998           0        10.916         170.4           nan      (8, 3, 1024, 1024)                    list\n",
      "     2842998           0        19.178          2339           nan     (16, 3, 1024, 1024)                    list\n",
      "\u001b[34m\u001b[1mAutoBatch: \u001b[0mUsing batch-size 1 for CUDA:0 5.76G/8.00G (72%) \n"
     ]
    },
    {
     "name": "stderr",
     "output_type": "stream",
     "text": [
      "\u001b[34m\u001b[1mtrain: \u001b[0mScanning C:\\Users\\jdhoc\\Desktop\\DOT Volunteer Project\\data\\labels\\cool-roofs_filteredBldgs_randSub1\\segment\\labels\\train.cache... 1924 images, 0 backgrounds, 0 corrupt: 100%|██████████| 1924/1924 [00:00<?, ?it/s]"
     ]
    },
    {
     "name": "stdout",
     "output_type": "stream",
     "text": [
      "\u001b[34m\u001b[1mtrain: \u001b[0mWARNING  C:\\Users\\jdhoc\\Desktop\\DOT Volunteer Project\\data\\labels\\cool-roofs_filteredBldgs_randSub1\\segment\\images\\train\\NYCortho22_16147.jpg: 1 duplicate labels removed\n",
      "\u001b[34m\u001b[1mtrain: \u001b[0mWARNING  C:\\Users\\jdhoc\\Desktop\\DOT Volunteer Project\\data\\labels\\cool-roofs_filteredBldgs_randSub1\\segment\\images\\train\\NYCortho22_18022.jpg: 1 duplicate labels removed\n",
      "\u001b[34m\u001b[1mtrain: \u001b[0mWARNING  C:\\Users\\jdhoc\\Desktop\\DOT Volunteer Project\\data\\labels\\cool-roofs_filteredBldgs_randSub1\\segment\\images\\train\\NYCortho22_18037.jpg: 1 duplicate labels removed\n",
      "\u001b[34m\u001b[1mtrain: \u001b[0mWARNING  C:\\Users\\jdhoc\\Desktop\\DOT Volunteer Project\\data\\labels\\cool-roofs_filteredBldgs_randSub1\\segment\\images\\train\\NYCortho22_18959.jpg: 1 duplicate labels removed\n",
      "\u001b[34m\u001b[1mtrain: \u001b[0mWARNING  C:\\Users\\jdhoc\\Desktop\\DOT Volunteer Project\\data\\labels\\cool-roofs_filteredBldgs_randSub1\\segment\\images\\train\\NYCortho22_20402.jpg: 1 duplicate labels removed\n",
      "\u001b[34m\u001b[1mtrain: \u001b[0mWARNING  C:\\Users\\jdhoc\\Desktop\\DOT Volunteer Project\\data\\labels\\cool-roofs_filteredBldgs_randSub1\\segment\\images\\train\\NYCortho22_20556.jpg: 2 duplicate labels removed\n",
      "\u001b[34m\u001b[1mtrain: \u001b[0mWARNING  C:\\Users\\jdhoc\\Desktop\\DOT Volunteer Project\\data\\labels\\cool-roofs_filteredBldgs_randSub1\\segment\\images\\train\\NYCortho22_21310.jpg: 1 duplicate labels removed\n",
      "\u001b[34m\u001b[1mtrain: \u001b[0mWARNING  C:\\Users\\jdhoc\\Desktop\\DOT Volunteer Project\\data\\labels\\cool-roofs_filteredBldgs_randSub1\\segment\\images\\train\\NYCortho22_23303.jpg: 1 duplicate labels removed\n",
      "\u001b[34m\u001b[1mtrain: \u001b[0mWARNING  C:\\Users\\jdhoc\\Desktop\\DOT Volunteer Project\\data\\labels\\cool-roofs_filteredBldgs_randSub1\\segment\\images\\train\\NYCortho22_24343.jpg: 1 duplicate labels removed\n",
      "\u001b[34m\u001b[1mtrain: \u001b[0mWARNING  C:\\Users\\jdhoc\\Desktop\\DOT Volunteer Project\\data\\labels\\cool-roofs_filteredBldgs_randSub1\\segment\\images\\train\\NYCortho22_25605.jpg: 2 duplicate labels removed\n",
      "\u001b[34m\u001b[1mtrain: \u001b[0mWARNING  C:\\Users\\jdhoc\\Desktop\\DOT Volunteer Project\\data\\labels\\cool-roofs_filteredBldgs_randSub1\\segment\\images\\train\\NYCortho22_2731.jpg: 1 duplicate labels removed\n",
      "\u001b[34m\u001b[1mtrain: \u001b[0mWARNING  C:\\Users\\jdhoc\\Desktop\\DOT Volunteer Project\\data\\labels\\cool-roofs_filteredBldgs_randSub1\\segment\\images\\train\\NYCortho22_28016.jpg: 3 duplicate labels removed\n",
      "\u001b[34m\u001b[1mtrain: \u001b[0mWARNING  C:\\Users\\jdhoc\\Desktop\\DOT Volunteer Project\\data\\labels\\cool-roofs_filteredBldgs_randSub1\\segment\\images\\train\\NYCortho22_28925.jpg: 1 duplicate labels removed\n",
      "\u001b[34m\u001b[1mtrain: \u001b[0mWARNING  C:\\Users\\jdhoc\\Desktop\\DOT Volunteer Project\\data\\labels\\cool-roofs_filteredBldgs_randSub1\\segment\\images\\train\\NYCortho22_29527.jpg: 1 duplicate labels removed\n",
      "\u001b[34m\u001b[1mtrain: \u001b[0mWARNING  C:\\Users\\jdhoc\\Desktop\\DOT Volunteer Project\\data\\labels\\cool-roofs_filteredBldgs_randSub1\\segment\\images\\train\\NYCortho22_31356.jpg: 1 duplicate labels removed\n",
      "\u001b[34m\u001b[1mtrain: \u001b[0mWARNING  C:\\Users\\jdhoc\\Desktop\\DOT Volunteer Project\\data\\labels\\cool-roofs_filteredBldgs_randSub1\\segment\\images\\train\\NYCortho22_31959.jpg: 1 duplicate labels removed\n",
      "\u001b[34m\u001b[1mtrain: \u001b[0mWARNING  C:\\Users\\jdhoc\\Desktop\\DOT Volunteer Project\\data\\labels\\cool-roofs_filteredBldgs_randSub1\\segment\\images\\train\\NYCortho22_32891.jpg: 2 duplicate labels removed\n",
      "\u001b[34m\u001b[1mtrain: \u001b[0mWARNING  C:\\Users\\jdhoc\\Desktop\\DOT Volunteer Project\\data\\labels\\cool-roofs_filteredBldgs_randSub1\\segment\\images\\train\\NYCortho22_33798.jpg: 1 duplicate labels removed\n",
      "\u001b[34m\u001b[1mtrain: \u001b[0mWARNING  C:\\Users\\jdhoc\\Desktop\\DOT Volunteer Project\\data\\labels\\cool-roofs_filteredBldgs_randSub1\\segment\\images\\train\\NYCortho22_34990.jpg: 1 duplicate labels removed\n",
      "\u001b[34m\u001b[1mtrain: \u001b[0mWARNING  C:\\Users\\jdhoc\\Desktop\\DOT Volunteer Project\\data\\labels\\cool-roofs_filteredBldgs_randSub1\\segment\\images\\train\\NYCortho22_35040.jpg: 5 duplicate labels removed\n",
      "\u001b[34m\u001b[1mtrain: \u001b[0mWARNING  C:\\Users\\jdhoc\\Desktop\\DOT Volunteer Project\\data\\labels\\cool-roofs_filteredBldgs_randSub1\\segment\\images\\train\\NYCortho22_35056.jpg: 7 duplicate labels removed\n",
      "\u001b[34m\u001b[1mtrain: \u001b[0mWARNING  C:\\Users\\jdhoc\\Desktop\\DOT Volunteer Project\\data\\labels\\cool-roofs_filteredBldgs_randSub1\\segment\\images\\train\\NYCortho22_35292.jpg: 1 duplicate labels removed\n",
      "\u001b[34m\u001b[1mtrain: \u001b[0mWARNING  C:\\Users\\jdhoc\\Desktop\\DOT Volunteer Project\\data\\labels\\cool-roofs_filteredBldgs_randSub1\\segment\\images\\train\\NYCortho22_35320.jpg: 1 duplicate labels removed\n",
      "\u001b[34m\u001b[1mtrain: \u001b[0mWARNING  C:\\Users\\jdhoc\\Desktop\\DOT Volunteer Project\\data\\labels\\cool-roofs_filteredBldgs_randSub1\\segment\\images\\train\\NYCortho22_35341.jpg: 1 duplicate labels removed\n",
      "\u001b[34m\u001b[1mtrain: \u001b[0mWARNING  C:\\Users\\jdhoc\\Desktop\\DOT Volunteer Project\\data\\labels\\cool-roofs_filteredBldgs_randSub1\\segment\\images\\train\\NYCortho22_35897.jpg: 1 duplicate labels removed\n",
      "\u001b[34m\u001b[1mtrain: \u001b[0mWARNING  C:\\Users\\jdhoc\\Desktop\\DOT Volunteer Project\\data\\labels\\cool-roofs_filteredBldgs_randSub1\\segment\\images\\train\\NYCortho22_36806.jpg: 1 duplicate labels removed\n",
      "\u001b[34m\u001b[1mtrain: \u001b[0mWARNING  C:\\Users\\jdhoc\\Desktop\\DOT Volunteer Project\\data\\labels\\cool-roofs_filteredBldgs_randSub1\\segment\\images\\train\\NYCortho22_37190.jpg: 3 duplicate labels removed\n",
      "\u001b[34m\u001b[1mtrain: \u001b[0mWARNING  C:\\Users\\jdhoc\\Desktop\\DOT Volunteer Project\\data\\labels\\cool-roofs_filteredBldgs_randSub1\\segment\\images\\train\\NYCortho22_37494.jpg: 1 duplicate labels removed\n",
      "\u001b[34m\u001b[1mtrain: \u001b[0mWARNING  C:\\Users\\jdhoc\\Desktop\\DOT Volunteer Project\\data\\labels\\cool-roofs_filteredBldgs_randSub1\\segment\\images\\train\\NYCortho22_38041.jpg: 1 duplicate labels removed\n",
      "\u001b[34m\u001b[1mtrain: \u001b[0mWARNING  C:\\Users\\jdhoc\\Desktop\\DOT Volunteer Project\\data\\labels\\cool-roofs_filteredBldgs_randSub1\\segment\\images\\train\\NYCortho22_38054.jpg: 1 duplicate labels removed\n",
      "\u001b[34m\u001b[1mtrain: \u001b[0mWARNING  C:\\Users\\jdhoc\\Desktop\\DOT Volunteer Project\\data\\labels\\cool-roofs_filteredBldgs_randSub1\\segment\\images\\train\\NYCortho22_38059.jpg: 1 duplicate labels removed\n",
      "\u001b[34m\u001b[1mtrain: \u001b[0mWARNING  C:\\Users\\jdhoc\\Desktop\\DOT Volunteer Project\\data\\labels\\cool-roofs_filteredBldgs_randSub1\\segment\\images\\train\\NYCortho22_40740.jpg: 1 duplicate labels removed\n",
      "\u001b[34m\u001b[1mtrain: \u001b[0mWARNING  C:\\Users\\jdhoc\\Desktop\\DOT Volunteer Project\\data\\labels\\cool-roofs_filteredBldgs_randSub1\\segment\\images\\train\\NYCortho22_40790.jpg: 1 duplicate labels removed\n",
      "\u001b[34m\u001b[1mtrain: \u001b[0mWARNING  C:\\Users\\jdhoc\\Desktop\\DOT Volunteer Project\\data\\labels\\cool-roofs_filteredBldgs_randSub1\\segment\\images\\train\\NYCortho22_41069.jpg: 2 duplicate labels removed\n",
      "\u001b[34m\u001b[1mtrain: \u001b[0mWARNING  C:\\Users\\jdhoc\\Desktop\\DOT Volunteer Project\\data\\labels\\cool-roofs_filteredBldgs_randSub1\\segment\\images\\train\\NYCortho22_41700.jpg: 2 duplicate labels removed\n",
      "\u001b[34m\u001b[1mtrain: \u001b[0mWARNING  C:\\Users\\jdhoc\\Desktop\\DOT Volunteer Project\\data\\labels\\cool-roofs_filteredBldgs_randSub1\\segment\\images\\train\\NYCortho22_41999.jpg: 2 duplicate labels removed\n",
      "\u001b[34m\u001b[1mtrain: \u001b[0mWARNING  C:\\Users\\jdhoc\\Desktop\\DOT Volunteer Project\\data\\labels\\cool-roofs_filteredBldgs_randSub1\\segment\\images\\train\\NYCortho22_42564.jpg: 1 duplicate labels removed\n",
      "\u001b[34m\u001b[1mtrain: \u001b[0mWARNING  C:\\Users\\jdhoc\\Desktop\\DOT Volunteer Project\\data\\labels\\cool-roofs_filteredBldgs_randSub1\\segment\\images\\train\\NYCortho22_42878.jpg: 1 duplicate labels removed\n",
      "\u001b[34m\u001b[1mtrain: \u001b[0mWARNING  C:\\Users\\jdhoc\\Desktop\\DOT Volunteer Project\\data\\labels\\cool-roofs_filteredBldgs_randSub1\\segment\\images\\train\\NYCortho22_42904.jpg: 1 duplicate labels removed\n",
      "\u001b[34m\u001b[1mtrain: \u001b[0mWARNING  C:\\Users\\jdhoc\\Desktop\\DOT Volunteer Project\\data\\labels\\cool-roofs_filteredBldgs_randSub1\\segment\\images\\train\\NYCortho22_42905.jpg: 2 duplicate labels removed\n",
      "\u001b[34m\u001b[1mtrain: \u001b[0mWARNING  C:\\Users\\jdhoc\\Desktop\\DOT Volunteer Project\\data\\labels\\cool-roofs_filteredBldgs_randSub1\\segment\\images\\train\\NYCortho22_42965.jpg: 1 duplicate labels removed\n",
      "\u001b[34m\u001b[1mtrain: \u001b[0mWARNING  C:\\Users\\jdhoc\\Desktop\\DOT Volunteer Project\\data\\labels\\cool-roofs_filteredBldgs_randSub1\\segment\\images\\train\\NYCortho22_43274.jpg: 2 duplicate labels removed\n",
      "\u001b[34m\u001b[1mtrain: \u001b[0mWARNING  C:\\Users\\jdhoc\\Desktop\\DOT Volunteer Project\\data\\labels\\cool-roofs_filteredBldgs_randSub1\\segment\\images\\train\\NYCortho22_44103.jpg: 1 duplicate labels removed\n",
      "\u001b[34m\u001b[1mtrain: \u001b[0mWARNING  C:\\Users\\jdhoc\\Desktop\\DOT Volunteer Project\\data\\labels\\cool-roofs_filteredBldgs_randSub1\\segment\\images\\train\\NYCortho22_44121.jpg: 1 duplicate labels removed\n",
      "\u001b[34m\u001b[1mtrain: \u001b[0mWARNING  C:\\Users\\jdhoc\\Desktop\\DOT Volunteer Project\\data\\labels\\cool-roofs_filteredBldgs_randSub1\\segment\\images\\train\\NYCortho22_44404.jpg: 3 duplicate labels removed\n",
      "\u001b[34m\u001b[1mtrain: \u001b[0mWARNING  C:\\Users\\jdhoc\\Desktop\\DOT Volunteer Project\\data\\labels\\cool-roofs_filteredBldgs_randSub1\\segment\\images\\train\\NYCortho22_44689.jpg: 2 duplicate labels removed\n",
      "\u001b[34m\u001b[1mtrain: \u001b[0mWARNING  C:\\Users\\jdhoc\\Desktop\\DOT Volunteer Project\\data\\labels\\cool-roofs_filteredBldgs_randSub1\\segment\\images\\train\\NYCortho22_45318.jpg: 1 duplicate labels removed\n",
      "\u001b[34m\u001b[1mtrain: \u001b[0mWARNING  C:\\Users\\jdhoc\\Desktop\\DOT Volunteer Project\\data\\labels\\cool-roofs_filteredBldgs_randSub1\\segment\\images\\train\\NYCortho22_45616.jpg: 1 duplicate labels removed\n",
      "\u001b[34m\u001b[1mtrain: \u001b[0mWARNING  C:\\Users\\jdhoc\\Desktop\\DOT Volunteer Project\\data\\labels\\cool-roofs_filteredBldgs_randSub1\\segment\\images\\train\\NYCortho22_45916.jpg: 1 duplicate labels removed\n",
      "\u001b[34m\u001b[1mtrain: \u001b[0mWARNING  C:\\Users\\jdhoc\\Desktop\\DOT Volunteer Project\\data\\labels\\cool-roofs_filteredBldgs_randSub1\\segment\\images\\train\\NYCortho22_46221.jpg: 1 duplicate labels removed\n",
      "\u001b[34m\u001b[1mtrain: \u001b[0mWARNING  C:\\Users\\jdhoc\\Desktop\\DOT Volunteer Project\\data\\labels\\cool-roofs_filteredBldgs_randSub1\\segment\\images\\train\\NYCortho22_46307.jpg: 2 duplicate labels removed\n",
      "\u001b[34m\u001b[1mtrain: \u001b[0mWARNING  C:\\Users\\jdhoc\\Desktop\\DOT Volunteer Project\\data\\labels\\cool-roofs_filteredBldgs_randSub1\\segment\\images\\train\\NYCortho22_46518.jpg: 1 duplicate labels removed\n",
      "\u001b[34m\u001b[1mtrain: \u001b[0mWARNING  C:\\Users\\jdhoc\\Desktop\\DOT Volunteer Project\\data\\labels\\cool-roofs_filteredBldgs_randSub1\\segment\\images\\train\\NYCortho22_47427.jpg: 1 duplicate labels removed\n",
      "\u001b[34m\u001b[1mtrain: \u001b[0mWARNING  C:\\Users\\jdhoc\\Desktop\\DOT Volunteer Project\\data\\labels\\cool-roofs_filteredBldgs_randSub1\\segment\\images\\train\\NYCortho22_47434.jpg: 1 duplicate labels removed\n",
      "\u001b[34m\u001b[1mtrain: \u001b[0mWARNING  C:\\Users\\jdhoc\\Desktop\\DOT Volunteer Project\\data\\labels\\cool-roofs_filteredBldgs_randSub1\\segment\\images\\train\\NYCortho22_47440.jpg: 1 duplicate labels removed\n",
      "\u001b[34m\u001b[1mtrain: \u001b[0mWARNING  C:\\Users\\jdhoc\\Desktop\\DOT Volunteer Project\\data\\labels\\cool-roofs_filteredBldgs_randSub1\\segment\\images\\train\\NYCortho22_48651.jpg: 1 duplicate labels removed\n",
      "\u001b[34m\u001b[1mtrain: \u001b[0mWARNING  C:\\Users\\jdhoc\\Desktop\\DOT Volunteer Project\\data\\labels\\cool-roofs_filteredBldgs_randSub1\\segment\\images\\train\\NYCortho22_48956.jpg: 1 duplicate labels removed\n",
      "\u001b[34m\u001b[1mtrain: \u001b[0mWARNING  C:\\Users\\jdhoc\\Desktop\\DOT Volunteer Project\\data\\labels\\cool-roofs_filteredBldgs_randSub1\\segment\\images\\train\\NYCortho22_49228.jpg: 2 duplicate labels removed\n",
      "\u001b[34m\u001b[1mtrain: \u001b[0mWARNING  C:\\Users\\jdhoc\\Desktop\\DOT Volunteer Project\\data\\labels\\cool-roofs_filteredBldgs_randSub1\\segment\\images\\train\\NYCortho22_49531.jpg: 1 duplicate labels removed\n",
      "\u001b[34m\u001b[1mtrain: \u001b[0mWARNING  C:\\Users\\jdhoc\\Desktop\\DOT Volunteer Project\\data\\labels\\cool-roofs_filteredBldgs_randSub1\\segment\\images\\train\\NYCortho22_49967.jpg: 4 duplicate labels removed\n",
      "\u001b[34m\u001b[1mtrain: \u001b[0mWARNING  C:\\Users\\jdhoc\\Desktop\\DOT Volunteer Project\\data\\labels\\cool-roofs_filteredBldgs_randSub1\\segment\\images\\train\\NYCortho22_50140.jpg: 1 duplicate labels removed\n",
      "\u001b[34m\u001b[1mtrain: \u001b[0mWARNING  C:\\Users\\jdhoc\\Desktop\\DOT Volunteer Project\\data\\labels\\cool-roofs_filteredBldgs_randSub1\\segment\\images\\train\\NYCortho22_50212.jpg: 1 duplicate labels removed\n",
      "\u001b[34m\u001b[1mtrain: \u001b[0mWARNING  C:\\Users\\jdhoc\\Desktop\\DOT Volunteer Project\\data\\labels\\cool-roofs_filteredBldgs_randSub1\\segment\\images\\train\\NYCortho22_50468.jpg: 1 duplicate labels removed\n",
      "\u001b[34m\u001b[1mtrain: \u001b[0mWARNING  C:\\Users\\jdhoc\\Desktop\\DOT Volunteer Project\\data\\labels\\cool-roofs_filteredBldgs_randSub1\\segment\\images\\train\\NYCortho22_53169.jpg: 2 duplicate labels removed\n",
      "\u001b[34m\u001b[1mtrain: \u001b[0mWARNING  C:\\Users\\jdhoc\\Desktop\\DOT Volunteer Project\\data\\labels\\cool-roofs_filteredBldgs_randSub1\\segment\\images\\train\\NYCortho22_53495.jpg: 1 duplicate labels removed\n",
      "\u001b[34m\u001b[1mtrain: \u001b[0mWARNING  C:\\Users\\jdhoc\\Desktop\\DOT Volunteer Project\\data\\labels\\cool-roofs_filteredBldgs_randSub1\\segment\\images\\train\\NYCortho22_54131.jpg: 1 duplicate labels removed\n",
      "\u001b[34m\u001b[1mtrain: \u001b[0mWARNING  C:\\Users\\jdhoc\\Desktop\\DOT Volunteer Project\\data\\labels\\cool-roofs_filteredBldgs_randSub1\\segment\\images\\train\\NYCortho22_54404.jpg: 1 duplicate labels removed\n",
      "\u001b[34m\u001b[1mtrain: \u001b[0mWARNING  C:\\Users\\jdhoc\\Desktop\\DOT Volunteer Project\\data\\labels\\cool-roofs_filteredBldgs_randSub1\\segment\\images\\train\\NYCortho22_54454.jpg: 1 duplicate labels removed\n",
      "\u001b[34m\u001b[1mtrain: \u001b[0mWARNING  C:\\Users\\jdhoc\\Desktop\\DOT Volunteer Project\\data\\labels\\cool-roofs_filteredBldgs_randSub1\\segment\\images\\train\\NYCortho22_55060.jpg: 1 duplicate labels removed\n",
      "\u001b[34m\u001b[1mtrain: \u001b[0mWARNING  C:\\Users\\jdhoc\\Desktop\\DOT Volunteer Project\\data\\labels\\cool-roofs_filteredBldgs_randSub1\\segment\\images\\train\\NYCortho22_55586.jpg: 1 duplicate labels removed\n",
      "\u001b[34m\u001b[1mtrain: \u001b[0mWARNING  C:\\Users\\jdhoc\\Desktop\\DOT Volunteer Project\\data\\labels\\cool-roofs_filteredBldgs_randSub1\\segment\\images\\train\\NYCortho22_55592.jpg: 4 duplicate labels removed\n",
      "\u001b[34m\u001b[1mtrain: \u001b[0mWARNING  C:\\Users\\jdhoc\\Desktop\\DOT Volunteer Project\\data\\labels\\cool-roofs_filteredBldgs_randSub1\\segment\\images\\train\\NYCortho22_55662.jpg: 1 duplicate labels removed\n",
      "\u001b[34m\u001b[1mtrain: \u001b[0mWARNING  C:\\Users\\jdhoc\\Desktop\\DOT Volunteer Project\\data\\labels\\cool-roofs_filteredBldgs_randSub1\\segment\\images\\train\\NYCortho22_55679.jpg: 1 duplicate labels removed\n",
      "\u001b[34m\u001b[1mtrain: \u001b[0mWARNING  C:\\Users\\jdhoc\\Desktop\\DOT Volunteer Project\\data\\labels\\cool-roofs_filteredBldgs_randSub1\\segment\\images\\train\\NYCortho22_55960.jpg: 1 duplicate labels removed\n",
      "\u001b[34m\u001b[1mtrain: \u001b[0mWARNING  C:\\Users\\jdhoc\\Desktop\\DOT Volunteer Project\\data\\labels\\cool-roofs_filteredBldgs_randSub1\\segment\\images\\train\\NYCortho22_56206.jpg: 2 duplicate labels removed\n",
      "\u001b[34m\u001b[1mtrain: \u001b[0mWARNING  C:\\Users\\jdhoc\\Desktop\\DOT Volunteer Project\\data\\labels\\cool-roofs_filteredBldgs_randSub1\\segment\\images\\train\\NYCortho22_56230.jpg: 1 duplicate labels removed\n",
      "\u001b[34m\u001b[1mtrain: \u001b[0mWARNING  C:\\Users\\jdhoc\\Desktop\\DOT Volunteer Project\\data\\labels\\cool-roofs_filteredBldgs_randSub1\\segment\\images\\train\\NYCortho22_56231.jpg: 1 duplicate labels removed\n",
      "\u001b[34m\u001b[1mtrain: \u001b[0mWARNING  C:\\Users\\jdhoc\\Desktop\\DOT Volunteer Project\\data\\labels\\cool-roofs_filteredBldgs_randSub1\\segment\\images\\train\\NYCortho22_56285.jpg: 1 duplicate labels removed\n",
      "\u001b[34m\u001b[1mtrain: \u001b[0mWARNING  C:\\Users\\jdhoc\\Desktop\\DOT Volunteer Project\\data\\labels\\cool-roofs_filteredBldgs_randSub1\\segment\\images\\train\\NYCortho22_56590.jpg: 1 duplicate labels removed\n",
      "\u001b[34m\u001b[1mtrain: \u001b[0mWARNING  C:\\Users\\jdhoc\\Desktop\\DOT Volunteer Project\\data\\labels\\cool-roofs_filteredBldgs_randSub1\\segment\\images\\train\\NYCortho22_56901.jpg: 1 duplicate labels removed\n",
      "\u001b[34m\u001b[1mtrain: \u001b[0mWARNING  C:\\Users\\jdhoc\\Desktop\\DOT Volunteer Project\\data\\labels\\cool-roofs_filteredBldgs_randSub1\\segment\\images\\train\\NYCortho22_57127.jpg: 3 duplicate labels removed\n",
      "\u001b[34m\u001b[1mtrain: \u001b[0mWARNING  C:\\Users\\jdhoc\\Desktop\\DOT Volunteer Project\\data\\labels\\cool-roofs_filteredBldgs_randSub1\\segment\\images\\train\\NYCortho22_57497.jpg: 1 duplicate labels removed\n",
      "\u001b[34m\u001b[1mtrain: \u001b[0mWARNING  C:\\Users\\jdhoc\\Desktop\\DOT Volunteer Project\\data\\labels\\cool-roofs_filteredBldgs_randSub1\\segment\\images\\train\\NYCortho22_57711.jpg: 1 duplicate labels removed\n",
      "\u001b[34m\u001b[1mtrain: \u001b[0mWARNING  C:\\Users\\jdhoc\\Desktop\\DOT Volunteer Project\\data\\labels\\cool-roofs_filteredBldgs_randSub1\\segment\\images\\train\\NYCortho22_57752.jpg: 1 duplicate labels removed\n",
      "\u001b[34m\u001b[1mtrain: \u001b[0mWARNING  C:\\Users\\jdhoc\\Desktop\\DOT Volunteer Project\\data\\labels\\cool-roofs_filteredBldgs_randSub1\\segment\\images\\train\\NYCortho22_58023.jpg: 2 duplicate labels removed\n",
      "\u001b[34m\u001b[1mtrain: \u001b[0mWARNING  C:\\Users\\jdhoc\\Desktop\\DOT Volunteer Project\\data\\labels\\cool-roofs_filteredBldgs_randSub1\\segment\\images\\train\\NYCortho22_58960.jpg: 1 duplicate labels removed\n",
      "\u001b[34m\u001b[1mtrain: \u001b[0mWARNING  C:\\Users\\jdhoc\\Desktop\\DOT Volunteer Project\\data\\labels\\cool-roofs_filteredBldgs_randSub1\\segment\\images\\train\\NYCortho22_59913.jpg: 1 duplicate labels removed\n",
      "\u001b[34m\u001b[1mtrain: \u001b[0mWARNING  C:\\Users\\jdhoc\\Desktop\\DOT Volunteer Project\\data\\labels\\cool-roofs_filteredBldgs_randSub1\\segment\\images\\train\\NYCortho22_61091.jpg: 4 duplicate labels removed\n",
      "\u001b[34m\u001b[1mtrain: \u001b[0mWARNING  C:\\Users\\jdhoc\\Desktop\\DOT Volunteer Project\\data\\labels\\cool-roofs_filteredBldgs_randSub1\\segment\\images\\train\\NYCortho22_61359.jpg: 1 duplicate labels removed\n",
      "\u001b[34m\u001b[1mtrain: \u001b[0mWARNING  C:\\Users\\jdhoc\\Desktop\\DOT Volunteer Project\\data\\labels\\cool-roofs_filteredBldgs_randSub1\\segment\\images\\train\\NYCortho22_62300.jpg: 2 duplicate labels removed\n",
      "\u001b[34m\u001b[1mtrain: \u001b[0mWARNING  C:\\Users\\jdhoc\\Desktop\\DOT Volunteer Project\\data\\labels\\cool-roofs_filteredBldgs_randSub1\\segment\\images\\train\\NYCortho22_66521.jpg: 1 duplicate labels removed\n",
      "\u001b[34m\u001b[1mtrain: \u001b[0mWARNING  C:\\Users\\jdhoc\\Desktop\\DOT Volunteer Project\\data\\labels\\cool-roofs_filteredBldgs_randSub1\\segment\\images\\train\\NYCortho22_66558.jpg: 2 duplicate labels removed\n",
      "\u001b[34m\u001b[1mtrain: \u001b[0mWARNING  C:\\Users\\jdhoc\\Desktop\\DOT Volunteer Project\\data\\labels\\cool-roofs_filteredBldgs_randSub1\\segment\\images\\train\\NYCortho22_67184.jpg: 1 duplicate labels removed\n",
      "\u001b[34m\u001b[1mtrain: \u001b[0mWARNING  C:\\Users\\jdhoc\\Desktop\\DOT Volunteer Project\\data\\labels\\cool-roofs_filteredBldgs_randSub1\\segment\\images\\train\\NYCortho22_67431.jpg: 1 duplicate labels removed\n",
      "\u001b[34m\u001b[1mtrain: \u001b[0mWARNING  C:\\Users\\jdhoc\\Desktop\\DOT Volunteer Project\\data\\labels\\cool-roofs_filteredBldgs_randSub1\\segment\\images\\train\\NYCortho22_68663.jpg: 1 duplicate labels removed\n",
      "\u001b[34m\u001b[1mtrain: \u001b[0mWARNING  C:\\Users\\jdhoc\\Desktop\\DOT Volunteer Project\\data\\labels\\cool-roofs_filteredBldgs_randSub1\\segment\\images\\train\\NYCortho22_68677.jpg: 1 duplicate labels removed\n",
      "\u001b[34m\u001b[1mtrain: \u001b[0mWARNING  C:\\Users\\jdhoc\\Desktop\\DOT Volunteer Project\\data\\labels\\cool-roofs_filteredBldgs_randSub1\\segment\\images\\train\\NYCortho22_69579.jpg: 1 duplicate labels removed\n",
      "\u001b[34m\u001b[1mtrain: \u001b[0mWARNING  C:\\Users\\jdhoc\\Desktop\\DOT Volunteer Project\\data\\labels\\cool-roofs_filteredBldgs_randSub1\\segment\\images\\train\\NYCortho22_71378.jpg: 1 duplicate labels removed\n",
      "\u001b[34m\u001b[1mtrain: \u001b[0mWARNING  C:\\Users\\jdhoc\\Desktop\\DOT Volunteer Project\\data\\labels\\cool-roofs_filteredBldgs_randSub1\\segment\\images\\train\\NYCortho22_75948.jpg: 1 duplicate labels removed\n",
      "\u001b[34m\u001b[1mtrain: \u001b[0mWARNING  C:\\Users\\jdhoc\\Desktop\\DOT Volunteer Project\\data\\labels\\cool-roofs_filteredBldgs_randSub1\\segment\\images\\train\\NYCortho22_78968.jpg: 1 duplicate labels removed\n",
      "\u001b[34m\u001b[1mtrain: \u001b[0mWARNING  C:\\Users\\jdhoc\\Desktop\\DOT Volunteer Project\\data\\labels\\cool-roofs_filteredBldgs_randSub1\\segment\\images\\train\\NYCortho22_81712.jpg: 2 duplicate labels removed\n",
      "\u001b[34m\u001b[1mtrain: \u001b[0mWARNING  C:\\Users\\jdhoc\\Desktop\\DOT Volunteer Project\\data\\labels\\cool-roofs_filteredBldgs_randSub1\\segment\\images\\train\\NYCortho22_82609.jpg: 2 duplicate labels removed\n",
      "\u001b[34m\u001b[1mtrain: \u001b[0mWARNING  C:\\Users\\jdhoc\\Desktop\\DOT Volunteer Project\\data\\labels\\cool-roofs_filteredBldgs_randSub1\\segment\\images\\train\\NYCortho22_83229.jpg: 1 duplicate labels removed\n"
     ]
    },
    {
     "name": "stderr",
     "output_type": "stream",
     "text": [
      "\n",
      "\u001b[34m\u001b[1mtrain: \u001b[0mCaching images (5.6GB Disk): 100%|██████████| 1924/1924 [00:00<00:00, 30238.05it/s]\n",
      "\u001b[34m\u001b[1mval: \u001b[0mScanning C:\\Users\\jdhoc\\Desktop\\DOT Volunteer Project\\data\\labels\\cool-roofs_filteredBldgs_randSub1\\segment\\labels\\val.cache... 548 images, 0 backgrounds, 0 corrupt: 100%|██████████| 548/548 [00:00<?, ?it/s]"
     ]
    },
    {
     "name": "stdout",
     "output_type": "stream",
     "text": [
      "\u001b[34m\u001b[1mval: \u001b[0mWARNING  C:\\Users\\jdhoc\\Desktop\\DOT Volunteer Project\\data\\labels\\cool-roofs_filteredBldgs_randSub1\\segment\\images\\val\\NYCortho22_16146.jpg: 1 duplicate labels removed\n",
      "\u001b[34m\u001b[1mval: \u001b[0mWARNING  C:\\Users\\jdhoc\\Desktop\\DOT Volunteer Project\\data\\labels\\cool-roofs_filteredBldgs_randSub1\\segment\\images\\val\\NYCortho22_20657.jpg: 2 duplicate labels removed\n",
      "\u001b[34m\u001b[1mval: \u001b[0mWARNING  C:\\Users\\jdhoc\\Desktop\\DOT Volunteer Project\\data\\labels\\cool-roofs_filteredBldgs_randSub1\\segment\\images\\val\\NYCortho22_23173.jpg: 1 duplicate labels removed\n",
      "\u001b[34m\u001b[1mval: \u001b[0mWARNING  C:\\Users\\jdhoc\\Desktop\\DOT Volunteer Project\\data\\labels\\cool-roofs_filteredBldgs_randSub1\\segment\\images\\val\\NYCortho22_26815.jpg: 1 duplicate labels removed\n",
      "\u001b[34m\u001b[1mval: \u001b[0mWARNING  C:\\Users\\jdhoc\\Desktop\\DOT Volunteer Project\\data\\labels\\cool-roofs_filteredBldgs_randSub1\\segment\\images\\val\\NYCortho22_28348.jpg: 3 duplicate labels removed\n",
      "\u001b[34m\u001b[1mval: \u001b[0mWARNING  C:\\Users\\jdhoc\\Desktop\\DOT Volunteer Project\\data\\labels\\cool-roofs_filteredBldgs_randSub1\\segment\\images\\val\\NYCortho22_32552.jpg: 1 duplicate labels removed\n",
      "\u001b[34m\u001b[1mval: \u001b[0mWARNING  C:\\Users\\jdhoc\\Desktop\\DOT Volunteer Project\\data\\labels\\cool-roofs_filteredBldgs_randSub1\\segment\\images\\val\\NYCortho22_38670.jpg: 2 duplicate labels removed\n",
      "\u001b[34m\u001b[1mval: \u001b[0mWARNING  C:\\Users\\jdhoc\\Desktop\\DOT Volunteer Project\\data\\labels\\cool-roofs_filteredBldgs_randSub1\\segment\\images\\val\\NYCortho22_39246.jpg: 2 duplicate labels removed\n",
      "\u001b[34m\u001b[1mval: \u001b[0mWARNING  C:\\Users\\jdhoc\\Desktop\\DOT Volunteer Project\\data\\labels\\cool-roofs_filteredBldgs_randSub1\\segment\\images\\val\\NYCortho22_39599.jpg: 1 duplicate labels removed\n",
      "\u001b[34m\u001b[1mval: \u001b[0mWARNING  C:\\Users\\jdhoc\\Desktop\\DOT Volunteer Project\\data\\labels\\cool-roofs_filteredBldgs_randSub1\\segment\\images\\val\\NYCortho22_41369.jpg: 1 duplicate labels removed\n",
      "\u001b[34m\u001b[1mval: \u001b[0mWARNING  C:\\Users\\jdhoc\\Desktop\\DOT Volunteer Project\\data\\labels\\cool-roofs_filteredBldgs_randSub1\\segment\\images\\val\\NYCortho22_41396.jpg: 1 duplicate labels removed\n",
      "\u001b[34m\u001b[1mval: \u001b[0mWARNING  C:\\Users\\jdhoc\\Desktop\\DOT Volunteer Project\\data\\labels\\cool-roofs_filteredBldgs_randSub1\\segment\\images\\val\\NYCortho22_42867.jpg: 3 duplicate labels removed\n",
      "\u001b[34m\u001b[1mval: \u001b[0mWARNING  C:\\Users\\jdhoc\\Desktop\\DOT Volunteer Project\\data\\labels\\cool-roofs_filteredBldgs_randSub1\\segment\\images\\val\\NYCortho22_43507.jpg: 1 duplicate labels removed\n",
      "\u001b[34m\u001b[1mval: \u001b[0mWARNING  C:\\Users\\jdhoc\\Desktop\\DOT Volunteer Project\\data\\labels\\cool-roofs_filteredBldgs_randSub1\\segment\\images\\val\\NYCortho22_43820.jpg: 1 duplicate labels removed\n",
      "\u001b[34m\u001b[1mval: \u001b[0mWARNING  C:\\Users\\jdhoc\\Desktop\\DOT Volunteer Project\\data\\labels\\cool-roofs_filteredBldgs_randSub1\\segment\\images\\val\\NYCortho22_46820.jpg: 2 duplicate labels removed\n",
      "\u001b[34m\u001b[1mval: \u001b[0mWARNING  C:\\Users\\jdhoc\\Desktop\\DOT Volunteer Project\\data\\labels\\cool-roofs_filteredBldgs_randSub1\\segment\\images\\val\\NYCortho22_46825.jpg: 2 duplicate labels removed\n",
      "\u001b[34m\u001b[1mval: \u001b[0mWARNING  C:\\Users\\jdhoc\\Desktop\\DOT Volunteer Project\\data\\labels\\cool-roofs_filteredBldgs_randSub1\\segment\\images\\val\\NYCortho22_47731.jpg: 1 duplicate labels removed\n",
      "\u001b[34m\u001b[1mval: \u001b[0mWARNING  C:\\Users\\jdhoc\\Desktop\\DOT Volunteer Project\\data\\labels\\cool-roofs_filteredBldgs_randSub1\\segment\\images\\val\\NYCortho22_48917.jpg: 2 duplicate labels removed\n",
      "\u001b[34m\u001b[1mval: \u001b[0mWARNING  C:\\Users\\jdhoc\\Desktop\\DOT Volunteer Project\\data\\labels\\cool-roofs_filteredBldgs_randSub1\\segment\\images\\val\\NYCortho22_50448.jpg: 1 duplicate labels removed\n",
      "\u001b[34m\u001b[1mval: \u001b[0mWARNING  C:\\Users\\jdhoc\\Desktop\\DOT Volunteer Project\\data\\labels\\cool-roofs_filteredBldgs_randSub1\\segment\\images\\val\\NYCortho22_53179.jpg: 1 duplicate labels removed\n",
      "\u001b[34m\u001b[1mval: \u001b[0mWARNING  C:\\Users\\jdhoc\\Desktop\\DOT Volunteer Project\\data\\labels\\cool-roofs_filteredBldgs_randSub1\\segment\\images\\val\\NYCortho22_54083.jpg: 1 duplicate labels removed\n",
      "\u001b[34m\u001b[1mval: \u001b[0mWARNING  C:\\Users\\jdhoc\\Desktop\\DOT Volunteer Project\\data\\labels\\cool-roofs_filteredBldgs_randSub1\\segment\\images\\val\\NYCortho22_56501.jpg: 3 duplicate labels removed\n",
      "\u001b[34m\u001b[1mval: \u001b[0mWARNING  C:\\Users\\jdhoc\\Desktop\\DOT Volunteer Project\\data\\labels\\cool-roofs_filteredBldgs_randSub1\\segment\\images\\val\\NYCortho22_56817.jpg: 1 duplicate labels removed\n",
      "\u001b[34m\u001b[1mval: \u001b[0mWARNING  C:\\Users\\jdhoc\\Desktop\\DOT Volunteer Project\\data\\labels\\cool-roofs_filteredBldgs_randSub1\\segment\\images\\val\\NYCortho22_57111.jpg: 2 duplicate labels removed\n",
      "\u001b[34m\u001b[1mval: \u001b[0mWARNING  C:\\Users\\jdhoc\\Desktop\\DOT Volunteer Project\\data\\labels\\cool-roofs_filteredBldgs_randSub1\\segment\\images\\val\\NYCortho22_62357.jpg: 2 duplicate labels removed\n",
      "\u001b[34m\u001b[1mval: \u001b[0mWARNING  C:\\Users\\jdhoc\\Desktop\\DOT Volunteer Project\\data\\labels\\cool-roofs_filteredBldgs_randSub1\\segment\\images\\val\\NYCortho22_68952.jpg: 2 duplicate labels removed\n",
      "\u001b[34m\u001b[1mval: \u001b[0mWARNING  C:\\Users\\jdhoc\\Desktop\\DOT Volunteer Project\\data\\labels\\cool-roofs_filteredBldgs_randSub1\\segment\\images\\val\\NYCortho22_73194.jpg: 1 duplicate labels removed\n",
      "\u001b[34m\u001b[1mval: \u001b[0mWARNING  C:\\Users\\jdhoc\\Desktop\\DOT Volunteer Project\\data\\labels\\cool-roofs_filteredBldgs_randSub1\\segment\\images\\val\\NYCortho22_75926.jpg: 1 duplicate labels removed\n",
      "\u001b[34m\u001b[1mval: \u001b[0mWARNING  C:\\Users\\jdhoc\\Desktop\\DOT Volunteer Project\\data\\labels\\cool-roofs_filteredBldgs_randSub1\\segment\\images\\val\\NYCortho22_76235.jpg: 1 duplicate labels removed\n",
      "\u001b[34m\u001b[1mval: \u001b[0mWARNING  C:\\Users\\jdhoc\\Desktop\\DOT Volunteer Project\\data\\labels\\cool-roofs_filteredBldgs_randSub1\\segment\\images\\val\\NYCortho22_76238.jpg: 1 duplicate labels removed\n",
      "\u001b[34m\u001b[1mval: \u001b[0mWARNING  C:\\Users\\jdhoc\\Desktop\\DOT Volunteer Project\\data\\labels\\cool-roofs_filteredBldgs_randSub1\\segment\\images\\val\\NYCortho22_83846.jpg: 1 duplicate labels removed\n"
     ]
    },
    {
     "name": "stderr",
     "output_type": "stream",
     "text": [
      "\n",
      "\u001b[34m\u001b[1mval: \u001b[0mCaching images (1.6GB Disk): 100%|██████████| 548/548 [00:00<00:00, 30445.44it/s]\n"
     ]
    },
    {
     "name": "stdout",
     "output_type": "stream",
     "text": [
      "Plotting labels to runs\\segment\\train4\\labels.jpg... \n",
      "\u001b[34m\u001b[1moptimizer:\u001b[0m 'optimizer=auto' found, ignoring 'lr0=0.01' and 'momentum=0.937' and determining best 'optimizer', 'lr0' and 'momentum' automatically... \n",
      "\u001b[34m\u001b[1moptimizer:\u001b[0m AdamW(lr=0.001667, momentum=0.9) with parameter groups 90 weight(decay=0.0), 101 weight(decay=0.0005), 100 bias(decay=0.0)\n",
      "Image sizes 1024 train, 1024 val\n",
      "Using 8 dataloader workers\n",
      "Logging results to \u001b[1mruns\\segment\\train4\u001b[0m\n",
      "Starting training for 90 epochs...\n",
      "\n",
      "      Epoch    GPU_mem   box_loss   seg_loss   cls_loss   dfl_loss  Instances       Size\n"
     ]
    },
    {
     "name": "stderr",
     "output_type": "stream",
     "text": [
      "       1/90      5.96G      1.154      1.993      1.325      1.232          3       1024: 100%|██████████| 1924/1924 [09:55<00:00,  3.23it/s]\n",
      "                 Class     Images  Instances      Box(P          R      mAP50  mAP50-95)     Mask(P          R      mAP50  mAP50-95): 100%|██████████| 274/274 [00:22<00:00, 12.45it/s]\n"
     ]
    },
    {
     "name": "stdout",
     "output_type": "stream",
     "text": [
      "                   all        548      25204      0.766      0.712      0.796      0.573      0.763      0.706      0.786      0.528\n",
      "\n",
      "      Epoch    GPU_mem   box_loss   seg_loss   cls_loss   dfl_loss  Instances       Size\n"
     ]
    },
    {
     "name": "stderr",
     "output_type": "stream",
     "text": [
      "       2/90      11.2G      1.173      2.036      1.321      1.251         33       1024: 100%|██████████| 1924/1924 [03:30<00:00,  9.14it/s]\n",
      "                 Class     Images  Instances      Box(P          R      mAP50  mAP50-95)     Mask(P          R      mAP50  mAP50-95): 100%|██████████| 274/274 [00:16<00:00, 16.27it/s]"
     ]
    },
    {
     "name": "stdout",
     "output_type": "stream",
     "text": [
      "                   all        548      25204      0.741      0.665      0.744      0.522      0.735      0.657       0.73      0.475\n"
     ]
    },
    {
     "name": "stderr",
     "output_type": "stream",
     "text": [
      "\n"
     ]
    },
    {
     "name": "stdout",
     "output_type": "stream",
     "text": [
      "\n",
      "      Epoch    GPU_mem   box_loss   seg_loss   cls_loss   dfl_loss  Instances       Size\n"
     ]
    },
    {
     "name": "stderr",
     "output_type": "stream",
     "text": [
      "       3/90      9.59G      1.199      2.094      1.353      1.269        188       1024: 100%|██████████| 1924/1924 [04:09<00:00,  7.71it/s]\n",
      "                 Class     Images  Instances      Box(P          R      mAP50  mAP50-95)     Mask(P          R      mAP50  mAP50-95): 100%|██████████| 274/274 [00:21<00:00, 12.88it/s]\n"
     ]
    },
    {
     "name": "stdout",
     "output_type": "stream",
     "text": [
      "                   all        548      25204       0.75      0.697      0.771      0.531      0.746      0.687      0.756      0.472\n",
      "\n",
      "      Epoch    GPU_mem   box_loss   seg_loss   cls_loss   dfl_loss  Instances       Size\n"
     ]
    },
    {
     "name": "stderr",
     "output_type": "stream",
     "text": [
      "       4/90      8.94G      1.235       2.14      1.385      1.288         85       1024: 100%|██████████| 1924/1924 [03:41<00:00,  8.69it/s]\n",
      "                 Class     Images  Instances      Box(P          R      mAP50  mAP50-95)     Mask(P          R      mAP50  mAP50-95): 100%|██████████| 274/274 [00:20<00:00, 13.34it/s]\n"
     ]
    },
    {
     "name": "stdout",
     "output_type": "stream",
     "text": [
      "                   all        548      25204       0.74      0.696      0.771       0.54      0.739      0.687      0.759       0.49\n",
      "\n",
      "      Epoch    GPU_mem   box_loss   seg_loss   cls_loss   dfl_loss  Instances       Size\n"
     ]
    },
    {
     "name": "stderr",
     "output_type": "stream",
     "text": [
      "       5/90      9.29G      1.212      2.089      1.301      1.284         47       1024: 100%|██████████| 1924/1924 [03:13<00:00,  9.95it/s]\n",
      "                 Class     Images  Instances      Box(P          R      mAP50  mAP50-95)     Mask(P          R      mAP50  mAP50-95): 100%|██████████| 274/274 [00:17<00:00, 15.24it/s]\n"
     ]
    },
    {
     "name": "stdout",
     "output_type": "stream",
     "text": [
      "                   all        548      25204      0.771      0.711      0.788      0.551      0.767      0.704      0.777        0.5\n",
      "\n",
      "      Epoch    GPU_mem   box_loss   seg_loss   cls_loss   dfl_loss  Instances       Size\n"
     ]
    },
    {
     "name": "stderr",
     "output_type": "stream",
     "text": [
      "       6/90      5.89G      1.193      2.061      1.289      1.276         15       1024: 100%|██████████| 1924/1924 [03:39<00:00,  8.78it/s]\n",
      "                 Class     Images  Instances      Box(P          R      mAP50  mAP50-95)     Mask(P          R      mAP50  mAP50-95): 100%|██████████| 274/274 [00:19<00:00, 13.97it/s]\n"
     ]
    },
    {
     "name": "stdout",
     "output_type": "stream",
     "text": [
      "                   all        548      25204      0.773      0.702      0.783      0.551      0.771      0.693      0.772      0.506\n",
      "\n",
      "      Epoch    GPU_mem   box_loss   seg_loss   cls_loss   dfl_loss  Instances       Size\n"
     ]
    },
    {
     "name": "stderr",
     "output_type": "stream",
     "text": [
      "       7/90      10.7G      1.177       2.03       1.25      1.256        110       1024: 100%|██████████| 1924/1924 [03:55<00:00,  8.18it/s]\n",
      "                 Class     Images  Instances      Box(P          R      mAP50  mAP50-95)     Mask(P          R      mAP50  mAP50-95): 100%|██████████| 274/274 [00:17<00:00, 15.23it/s]\n"
     ]
    },
    {
     "name": "stdout",
     "output_type": "stream",
     "text": [
      "                   all        548      25204      0.767      0.702      0.779      0.551      0.763      0.692      0.766      0.499\n",
      "\n",
      "      Epoch    GPU_mem   box_loss   seg_loss   cls_loss   dfl_loss  Instances       Size\n"
     ]
    },
    {
     "name": "stderr",
     "output_type": "stream",
     "text": [
      "       8/90      8.69G      1.166      2.028       1.23      1.255         24       1024: 100%|██████████| 1924/1924 [03:34<00:00,  8.98it/s]\n",
      "                 Class     Images  Instances      Box(P          R      mAP50  mAP50-95)     Mask(P          R      mAP50  mAP50-95): 100%|██████████| 274/274 [00:18<00:00, 15.15it/s]\n"
     ]
    },
    {
     "name": "stdout",
     "output_type": "stream",
     "text": [
      "                   all        548      25204      0.768      0.718      0.791      0.564      0.765      0.708      0.779      0.515\n",
      "\n",
      "      Epoch    GPU_mem   box_loss   seg_loss   cls_loss   dfl_loss  Instances       Size\n"
     ]
    },
    {
     "name": "stderr",
     "output_type": "stream",
     "text": [
      "       9/90      5.77G      1.175       2.03      1.229      1.262        173       1024: 100%|██████████| 1924/1924 [03:30<00:00,  9.15it/s]\n",
      "                 Class     Images  Instances      Box(P          R      mAP50  mAP50-95)     Mask(P          R      mAP50  mAP50-95): 100%|██████████| 274/274 [00:17<00:00, 15.29it/s]\n"
     ]
    },
    {
     "name": "stdout",
     "output_type": "stream",
     "text": [
      "                   all        548      25204      0.778      0.715      0.794      0.566       0.78      0.703      0.782      0.514\n",
      "\n",
      "      Epoch    GPU_mem   box_loss   seg_loss   cls_loss   dfl_loss  Instances       Size\n"
     ]
    },
    {
     "name": "stderr",
     "output_type": "stream",
     "text": [
      "      10/90      6.03G      1.165      1.995      1.239      1.255         11       1024: 100%|██████████| 1924/1924 [04:03<00:00,  7.90it/s]\n",
      "                 Class     Images  Instances      Box(P          R      mAP50  mAP50-95)     Mask(P          R      mAP50  mAP50-95): 100%|██████████| 274/274 [00:19<00:00, 13.83it/s]\n"
     ]
    },
    {
     "name": "stdout",
     "output_type": "stream",
     "text": [
      "                   all        548      25204      0.784        0.7      0.791      0.561      0.782      0.694      0.783      0.515\n",
      "\n",
      "      Epoch    GPU_mem   box_loss   seg_loss   cls_loss   dfl_loss  Instances       Size\n"
     ]
    },
    {
     "name": "stderr",
     "output_type": "stream",
     "text": [
      "      11/90      14.8G      1.149       1.96      1.201      1.238         70       1024: 100%|██████████| 1924/1924 [03:12<00:00,  9.98it/s]\n",
      "                 Class     Images  Instances      Box(P          R      mAP50  mAP50-95)     Mask(P          R      mAP50  mAP50-95): 100%|██████████| 274/274 [00:16<00:00, 16.14it/s]"
     ]
    },
    {
     "name": "stdout",
     "output_type": "stream",
     "text": [
      "                   all        548      25204      0.805      0.716      0.803      0.576      0.797      0.711      0.792      0.528\n"
     ]
    },
    {
     "name": "stderr",
     "output_type": "stream",
     "text": [
      "\n"
     ]
    },
    {
     "name": "stdout",
     "output_type": "stream",
     "text": [
      "\n",
      "      Epoch    GPU_mem   box_loss   seg_loss   cls_loss   dfl_loss  Instances       Size\n"
     ]
    },
    {
     "name": "stderr",
     "output_type": "stream",
     "text": [
      "      12/90      12.6G      1.144      1.957      1.195      1.239         19       1024: 100%|██████████| 1924/1924 [03:16<00:00,  9.79it/s]\n",
      "                 Class     Images  Instances      Box(P          R      mAP50  mAP50-95)     Mask(P          R      mAP50  mAP50-95): 100%|██████████| 274/274 [00:17<00:00, 15.58it/s]\n"
     ]
    },
    {
     "name": "stdout",
     "output_type": "stream",
     "text": [
      "                   all        548      25204      0.789      0.726      0.809      0.585      0.789      0.718        0.8      0.536\n",
      "\n",
      "      Epoch    GPU_mem   box_loss   seg_loss   cls_loss   dfl_loss  Instances       Size\n"
     ]
    },
    {
     "name": "stderr",
     "output_type": "stream",
     "text": [
      "      13/90      8.51G      1.148      1.941       1.19      1.241         47       1024: 100%|██████████| 1924/1924 [04:39<00:00,  6.89it/s]\n",
      "                 Class     Images  Instances      Box(P          R      mAP50  mAP50-95)     Mask(P          R      mAP50  mAP50-95): 100%|██████████| 274/274 [00:18<00:00, 14.46it/s]"
     ]
    },
    {
     "name": "stdout",
     "output_type": "stream",
     "text": [
      "                   all        548      25204      0.782      0.719        0.8      0.574      0.777      0.713      0.788      0.526\n"
     ]
    },
    {
     "name": "stderr",
     "output_type": "stream",
     "text": [
      "\n"
     ]
    },
    {
     "name": "stdout",
     "output_type": "stream",
     "text": [
      "\n",
      "      Epoch    GPU_mem   box_loss   seg_loss   cls_loss   dfl_loss  Instances       Size\n"
     ]
    },
    {
     "name": "stderr",
     "output_type": "stream",
     "text": [
      "      14/90      13.2G      1.141      1.937      1.169      1.234         10       1024: 100%|██████████| 1924/1924 [04:02<00:00,  7.93it/s]\n",
      "                 Class     Images  Instances      Box(P          R      mAP50  mAP50-95)     Mask(P          R      mAP50  mAP50-95): 100%|██████████| 274/274 [00:42<00:00,  6.45it/s]"
     ]
    },
    {
     "name": "stdout",
     "output_type": "stream",
     "text": [
      "                   all        548      25204      0.774       0.72      0.798      0.573      0.775      0.709      0.787      0.529\n"
     ]
    },
    {
     "name": "stderr",
     "output_type": "stream",
     "text": [
      "\n"
     ]
    },
    {
     "name": "stdout",
     "output_type": "stream",
     "text": [
      "\n",
      "      Epoch    GPU_mem   box_loss   seg_loss   cls_loss   dfl_loss  Instances       Size\n"
     ]
    },
    {
     "name": "stderr",
     "output_type": "stream",
     "text": [
      "      15/90      8.84G       1.13      1.927      1.167      1.236        165       1024: 100%|██████████| 1924/1924 [03:45<00:00,  8.52it/s]\n",
      "                 Class     Images  Instances      Box(P          R      mAP50  mAP50-95)     Mask(P          R      mAP50  mAP50-95): 100%|██████████| 274/274 [00:19<00:00, 14.17it/s]\n"
     ]
    },
    {
     "name": "stdout",
     "output_type": "stream",
     "text": [
      "                   all        548      25204      0.795      0.713      0.805      0.583      0.793      0.709      0.798      0.538\n",
      "\n",
      "      Epoch    GPU_mem   box_loss   seg_loss   cls_loss   dfl_loss  Instances       Size\n"
     ]
    },
    {
     "name": "stderr",
     "output_type": "stream",
     "text": [
      "      16/90      5.55G      1.118      1.905      1.138      1.225         57       1024: 100%|██████████| 1924/1924 [04:02<00:00,  7.94it/s]\n",
      "                 Class     Images  Instances      Box(P          R      mAP50  mAP50-95)     Mask(P          R      mAP50  mAP50-95): 100%|██████████| 274/274 [00:23<00:00, 11.68it/s]\n"
     ]
    },
    {
     "name": "stdout",
     "output_type": "stream",
     "text": [
      "                   all        548      25204      0.791      0.714      0.802      0.577       0.79      0.707      0.793       0.53\n",
      "\n",
      "      Epoch    GPU_mem   box_loss   seg_loss   cls_loss   dfl_loss  Instances       Size\n"
     ]
    },
    {
     "name": "stderr",
     "output_type": "stream",
     "text": [
      "      17/90      8.65G      1.101      1.878      1.115      1.215         20       1024: 100%|██████████| 1924/1924 [03:47<00:00,  8.45it/s]\n",
      "                 Class     Images  Instances      Box(P          R      mAP50  mAP50-95)     Mask(P          R      mAP50  mAP50-95): 100%|██████████| 274/274 [00:16<00:00, 16.29it/s]\n"
     ]
    },
    {
     "name": "stdout",
     "output_type": "stream",
     "text": [
      "                   all        548      25204      0.799      0.714      0.808      0.584      0.797      0.707      0.795      0.536\n",
      "\n",
      "      Epoch    GPU_mem   box_loss   seg_loss   cls_loss   dfl_loss  Instances       Size\n"
     ]
    },
    {
     "name": "stderr",
     "output_type": "stream",
     "text": [
      "      18/90      8.56G      1.126      1.897      1.156      1.225         37       1024: 100%|██████████| 1924/1924 [03:45<00:00,  8.54it/s]\n",
      "                 Class     Images  Instances      Box(P          R      mAP50  mAP50-95)     Mask(P          R      mAP50  mAP50-95): 100%|██████████| 274/274 [00:18<00:00, 14.78it/s]\n"
     ]
    },
    {
     "name": "stdout",
     "output_type": "stream",
     "text": [
      "                   all        548      25204      0.781      0.716      0.797      0.573      0.777      0.711      0.789      0.525\n",
      "\n",
      "      Epoch    GPU_mem   box_loss   seg_loss   cls_loss   dfl_loss  Instances       Size\n"
     ]
    },
    {
     "name": "stderr",
     "output_type": "stream",
     "text": [
      "      19/90      8.75G      1.107      1.888      1.121      1.218         29       1024: 100%|██████████| 1924/1924 [03:41<00:00,  8.68it/s]\n",
      "                 Class     Images  Instances      Box(P          R      mAP50  mAP50-95)     Mask(P          R      mAP50  mAP50-95): 100%|██████████| 274/274 [00:17<00:00, 15.61it/s]"
     ]
    },
    {
     "name": "stdout",
     "output_type": "stream",
     "text": [
      "                   all        548      25204      0.798      0.727      0.816      0.586      0.796      0.723      0.807      0.544\n"
     ]
    },
    {
     "name": "stderr",
     "output_type": "stream",
     "text": [
      "\n"
     ]
    },
    {
     "name": "stdout",
     "output_type": "stream",
     "text": [
      "\n",
      "      Epoch    GPU_mem   box_loss   seg_loss   cls_loss   dfl_loss  Instances       Size\n"
     ]
    },
    {
     "name": "stderr",
     "output_type": "stream",
     "text": [
      "      20/90      13.4G      1.108      1.875      1.123      1.213         44       1024: 100%|██████████| 1924/1924 [03:05<00:00, 10.39it/s]\n",
      "                 Class     Images  Instances      Box(P          R      mAP50  mAP50-95)     Mask(P          R      mAP50  mAP50-95): 100%|██████████| 274/274 [00:19<00:00, 14.15it/s]\n"
     ]
    },
    {
     "name": "stdout",
     "output_type": "stream",
     "text": [
      "                   all        548      25204      0.803      0.727      0.817      0.593      0.799      0.723      0.807      0.545\n",
      "\n",
      "      Epoch    GPU_mem   box_loss   seg_loss   cls_loss   dfl_loss  Instances       Size\n"
     ]
    },
    {
     "name": "stderr",
     "output_type": "stream",
     "text": [
      "      21/90      5.72G      1.096      1.857      1.082      1.213         62       1024: 100%|██████████| 1924/1924 [06:52<00:00,  4.67it/s]\n",
      "                 Class     Images  Instances      Box(P          R      mAP50  mAP50-95)     Mask(P          R      mAP50  mAP50-95): 100%|██████████| 274/274 [00:19<00:00, 13.79it/s]\n"
     ]
    },
    {
     "name": "stdout",
     "output_type": "stream",
     "text": [
      "                   all        548      25204      0.803      0.739      0.823      0.608      0.802      0.734      0.816      0.562\n",
      "\n",
      "      Epoch    GPU_mem   box_loss   seg_loss   cls_loss   dfl_loss  Instances       Size\n"
     ]
    },
    {
     "name": "stderr",
     "output_type": "stream",
     "text": [
      "      22/90      10.7G      1.098      1.861      1.118      1.216         13       1024: 100%|██████████| 1924/1924 [03:42<00:00,  8.63it/s]\n",
      "                 Class     Images  Instances      Box(P          R      mAP50  mAP50-95)     Mask(P          R      mAP50  mAP50-95): 100%|██████████| 274/274 [00:52<00:00,  5.21it/s]"
     ]
    },
    {
     "name": "stdout",
     "output_type": "stream",
     "text": [
      "                   all        548      25204      0.774      0.737       0.81      0.595       0.77      0.729        0.8      0.552\n"
     ]
    },
    {
     "name": "stderr",
     "output_type": "stream",
     "text": [
      "\n"
     ]
    },
    {
     "name": "stdout",
     "output_type": "stream",
     "text": [
      "\n",
      "      Epoch    GPU_mem   box_loss   seg_loss   cls_loss   dfl_loss  Instances       Size\n"
     ]
    },
    {
     "name": "stderr",
     "output_type": "stream",
     "text": [
      "      23/90      8.82G      1.081      1.845      1.084        1.2         14       1024: 100%|██████████| 1924/1924 [04:51<00:00,  6.61it/s]\n",
      "                 Class     Images  Instances      Box(P          R      mAP50  mAP50-95)     Mask(P          R      mAP50  mAP50-95): 100%|██████████| 274/274 [00:30<00:00,  8.89it/s]\n"
     ]
    },
    {
     "name": "stdout",
     "output_type": "stream",
     "text": [
      "                   all        548      25204      0.798      0.716      0.809      0.591      0.795      0.711        0.8      0.545\n",
      "\n",
      "      Epoch    GPU_mem   box_loss   seg_loss   cls_loss   dfl_loss  Instances       Size\n"
     ]
    },
    {
     "name": "stderr",
     "output_type": "stream",
     "text": [
      "      24/90      14.2G      1.088       1.84      1.081      1.205         21       1024: 100%|██████████| 1924/1924 [03:56<00:00,  8.13it/s]\n",
      "                 Class     Images  Instances      Box(P          R      mAP50  mAP50-95)     Mask(P          R      mAP50  mAP50-95): 100%|██████████| 274/274 [00:16<00:00, 16.37it/s]\n"
     ]
    },
    {
     "name": "stdout",
     "output_type": "stream",
     "text": [
      "                   all        548      25204      0.807      0.731      0.821      0.603      0.807      0.723      0.811      0.553\n",
      "\n",
      "      Epoch    GPU_mem   box_loss   seg_loss   cls_loss   dfl_loss  Instances       Size\n"
     ]
    },
    {
     "name": "stderr",
     "output_type": "stream",
     "text": [
      "      25/90      10.8G      1.093      1.846      1.092      1.205        147       1024: 100%|██████████| 1924/1924 [03:08<00:00, 10.20it/s]\n",
      "                 Class     Images  Instances      Box(P          R      mAP50  mAP50-95)     Mask(P          R      mAP50  mAP50-95): 100%|██████████| 274/274 [00:15<00:00, 17.49it/s]\n"
     ]
    },
    {
     "name": "stdout",
     "output_type": "stream",
     "text": [
      "                   all        548      25204      0.805       0.73      0.819      0.598      0.804      0.724      0.807      0.546\n",
      "\n",
      "      Epoch    GPU_mem   box_loss   seg_loss   cls_loss   dfl_loss  Instances       Size\n"
     ]
    },
    {
     "name": "stderr",
     "output_type": "stream",
     "text": [
      "      26/90      11.5G      1.081      1.825      1.073      1.193         78       1024: 100%|██████████| 1924/1924 [04:37<00:00,  6.93it/s]\n",
      "                 Class     Images  Instances      Box(P          R      mAP50  mAP50-95)     Mask(P          R      mAP50  mAP50-95): 100%|██████████| 274/274 [00:23<00:00, 11.72it/s]"
     ]
    },
    {
     "name": "stdout",
     "output_type": "stream",
     "text": [
      "                   all        548      25204      0.793      0.734       0.81      0.597      0.789      0.729      0.801      0.544\n"
     ]
    },
    {
     "name": "stderr",
     "output_type": "stream",
     "text": [
      "\n"
     ]
    },
    {
     "name": "stdout",
     "output_type": "stream",
     "text": [
      "\n",
      "      Epoch    GPU_mem   box_loss   seg_loss   cls_loss   dfl_loss  Instances       Size\n"
     ]
    },
    {
     "name": "stderr",
     "output_type": "stream",
     "text": [
      "      27/90      6.61G      1.083      1.817      1.078      1.197        152       1024: 100%|██████████| 1924/1924 [04:42<00:00,  6.80it/s]\n",
      "                 Class     Images  Instances      Box(P          R      mAP50  mAP50-95)     Mask(P          R      mAP50  mAP50-95): 100%|██████████| 274/274 [00:20<00:00, 13.52it/s]\n"
     ]
    },
    {
     "name": "stdout",
     "output_type": "stream",
     "text": [
      "                   all        548      25204      0.796      0.739       0.82      0.604      0.793      0.734      0.811      0.558\n",
      "\n",
      "      Epoch    GPU_mem   box_loss   seg_loss   cls_loss   dfl_loss  Instances       Size\n"
     ]
    },
    {
     "name": "stderr",
     "output_type": "stream",
     "text": [
      "      28/90       9.9G      1.073      1.782      1.094      1.183         11       1024:  17%|█▋        | 335/1924 [00:41<02:32, 10.40it/s]"
     ]
    }
   ],
   "source": [
    "# PRETRAINED_MODEL = \"C:/Users/jdhoc/Desktop/DOT Volunteer Project/scripts/yolov11/runs/segment/train2/weights/best.pt\"\n",
    "PRETRAINED_MODEL = \"C:/Users/jdhoc/Desktop/DOT Volunteer Project/scripts/runs/segment/train/weights/last.pt\"\n",
    "CUSTOM_DATASET = \"C:/Users/jdhoc/Desktop/DOT Volunteer Project/data/labels/cool-roofs_filteredBldgs_randSub1/segment/segment.yaml\"\n",
    "\n",
    "# Load a model\n",
    "model = YOLO(PRETRAINED_MODEL)\n",
    "\n",
    "# Train the model\n",
    "results = model.train(data = CUSTOM_DATASET, epochs = 90, patience = 20, batch = -1, imgsz = 1024, cache = \"disk\", device = 0, degrees = 90.0, scale = 0.5, flipud = 0.25)"
   ]
  }
 ],
 "metadata": {
  "kernelspec": {
   "display_name": "Python 3",
   "language": "python",
   "name": "python3"
  },
  "language_info": {
   "codemirror_mode": {
    "name": "ipython",
    "version": 3
   },
   "file_extension": ".py",
   "mimetype": "text/x-python",
   "name": "python",
   "nbconvert_exporter": "python",
   "pygments_lexer": "ipython3",
   "version": "3.12.7"
  }
 },
 "nbformat": 4,
 "nbformat_minor": 2
}
