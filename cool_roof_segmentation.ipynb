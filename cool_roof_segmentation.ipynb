{
 "cells": [
  {
   "cell_type": "code",
   "execution_count": 3,
   "metadata": {},
   "outputs": [],
   "source": [
    "from ultralytics import YOLO, checks, hub\n",
    "import torch\n",
    "import json"
   ]
  },
  {
   "cell_type": "code",
   "execution_count": 4,
   "metadata": {},
   "outputs": [
    {
     "name": "stdout",
     "output_type": "stream",
     "text": [
      "Ultralytics 8.3.78  Python-3.13.0 torch-2.6.0+cu124 CUDA:0 (NVIDIA GeForce RTX 3070 Ti Laptop GPU, 8192MiB)\n",
      "Setup complete  (20 CPUs, 31.7 GB RAM, 1440.7/1906.6 GB disk)\n",
      "\u001b[34m\u001b[1mUltralytics HUB: \u001b[0mNew authentication successful \n"
     ]
    }
   ],
   "source": [
    "with open('credentials.json') as f:\n",
    "    data = json.load(f)\n",
    "\n",
    "checks()\n",
    "hub.login(data['HUB_API_KEY'])\n",
    "torch.cuda.empty_cache()"
   ]
  },
  {
   "cell_type": "code",
   "execution_count": null,
   "metadata": {},
   "outputs": [],
   "source": [
    "PRETRAINED_MODEL = \"yolo11m-seg.pt\"\n",
    "CUSTOM_DATASET = \"C:/Users/jdhoc/Desktop/DOT Volunteer Project/data/labels/cool-roofs_filteredBldgs_randSub1/segment/segment.yaml\"\n",
    "\n",
    "# Load a model\n",
    "model = YOLO(PRETRAINED_MODEL)\n",
    "\n",
    "# Train the model\n",
    "# results = model.train(data = CUSTOM_DATASET, epochs = 100, batch = -1, imgsz = 1024, cache = \"disk\", device = 0, degrees = 90.0, scale = 0.5, flipud = 0.25)\n",
    "results = model.train(data = CUSTOM_DATASET, epochs = 100, patience = 20, batch = 1, imgsz = 1024, device = 0)"
   ]
  }
 ],
 "metadata": {
  "kernelspec": {
   "display_name": "cool_roofs_detection-venv",
   "language": "python",
   "name": "python3"
  },
  "language_info": {
   "codemirror_mode": {
    "name": "ipython",
    "version": 3
   },
   "file_extension": ".py",
   "mimetype": "text/x-python",
   "name": "python",
   "nbconvert_exporter": "python",
   "pygments_lexer": "ipython3",
   "version": "3.13.0"
  }
 },
 "nbformat": 4,
 "nbformat_minor": 2
}
