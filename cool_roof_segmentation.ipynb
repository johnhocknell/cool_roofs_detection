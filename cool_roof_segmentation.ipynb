{
 "cells": [
  {
   "cell_type": "code",
   "execution_count": 1,
   "metadata": {},
   "outputs": [],
   "source": [
    "from ultralytics import YOLO"
   ]
  },
  {
   "cell_type": "code",
   "execution_count": 2,
   "metadata": {},
   "outputs": [
    {
     "name": "stdout",
     "output_type": "stream",
     "text": [
      "New https://pypi.org/project/ultralytics/8.3.73 available  Update with 'pip install -U ultralytics'\n",
      "Ultralytics 8.3.62  Python-3.12.7 torch-2.5.1 CUDA:0 (NVIDIA GeForce RTX 3070 Ti Laptop GPU, 8192MiB)\n",
      "\u001b[34m\u001b[1mengine\\trainer: \u001b[0mtask=segment, mode=train, model=yolo11n-seg.pt, data=C:/Users/jdhoc/Desktop/DOT Volunteer Project/data/labels/cool-roofs_filteredBldgs_randSub1_5120px/segment/segment.yaml, epochs=100, time=None, patience=20, batch=4, imgsz=5120, save=True, save_period=-1, cache=disk, device=0, workers=8, project=None, name=train2, exist_ok=False, pretrained=True, optimizer=auto, verbose=True, seed=0, deterministic=True, single_cls=False, rect=False, cos_lr=False, close_mosaic=10, resume=False, amp=True, fraction=1.0, profile=False, freeze=None, multi_scale=False, overlap_mask=True, mask_ratio=4, dropout=0.0, val=True, split=val, save_json=False, save_hybrid=False, conf=None, iou=0.7, max_det=300, half=False, dnn=False, plots=True, source=None, vid_stride=1, stream_buffer=False, visualize=False, augment=False, agnostic_nms=False, classes=None, retina_masks=False, embed=None, show=False, save_frames=False, save_txt=False, save_conf=False, save_crop=False, show_labels=True, show_conf=True, show_boxes=True, line_width=None, format=torchscript, keras=False, optimize=False, int8=False, dynamic=False, simplify=True, opset=None, workspace=None, nms=False, lr0=0.01, lrf=0.01, momentum=0.937, weight_decay=0.0005, warmup_epochs=3.0, warmup_momentum=0.8, warmup_bias_lr=0.1, box=7.5, cls=0.5, dfl=1.5, pose=12.0, kobj=1.0, nbs=64, hsv_h=0.015, hsv_s=0.7, hsv_v=0.4, degrees=90.0, translate=0.1, scale=0.5, shear=0.0, perspective=0.0, flipud=0.25, fliplr=0.5, bgr=0.0, mosaic=1.0, mixup=0.0, copy_paste=0.0, copy_paste_mode=flip, auto_augment=randaugment, erasing=0.4, crop_fraction=1.0, cfg=None, tracker=botsort.yaml, save_dir=runs\\segment\\train2\n",
      "Overriding model.yaml nc=80 with nc=2\n",
      "\n",
      "                   from  n    params  module                                       arguments                     \n",
      "  0                  -1  1       464  ultralytics.nn.modules.conv.Conv             [3, 16, 3, 2]                 \n",
      "  1                  -1  1      4672  ultralytics.nn.modules.conv.Conv             [16, 32, 3, 2]                \n",
      "  2                  -1  1      6640  ultralytics.nn.modules.block.C3k2            [32, 64, 1, False, 0.25]      \n",
      "  3                  -1  1     36992  ultralytics.nn.modules.conv.Conv             [64, 64, 3, 2]                \n",
      "  4                  -1  1     26080  ultralytics.nn.modules.block.C3k2            [64, 128, 1, False, 0.25]     \n",
      "  5                  -1  1    147712  ultralytics.nn.modules.conv.Conv             [128, 128, 3, 2]              \n",
      "  6                  -1  1     87040  ultralytics.nn.modules.block.C3k2            [128, 128, 1, True]           \n",
      "  7                  -1  1    295424  ultralytics.nn.modules.conv.Conv             [128, 256, 3, 2]              \n",
      "  8                  -1  1    346112  ultralytics.nn.modules.block.C3k2            [256, 256, 1, True]           \n",
      "  9                  -1  1    164608  ultralytics.nn.modules.block.SPPF            [256, 256, 5]                 \n",
      " 10                  -1  1    249728  ultralytics.nn.modules.block.C2PSA           [256, 256, 1]                 \n",
      " 11                  -1  1         0  torch.nn.modules.upsampling.Upsample         [None, 2, 'nearest']          \n",
      " 12             [-1, 6]  1         0  ultralytics.nn.modules.conv.Concat           [1]                           \n",
      " 13                  -1  1    111296  ultralytics.nn.modules.block.C3k2            [384, 128, 1, False]          \n",
      " 14                  -1  1         0  torch.nn.modules.upsampling.Upsample         [None, 2, 'nearest']          \n",
      " 15             [-1, 4]  1         0  ultralytics.nn.modules.conv.Concat           [1]                           \n",
      " 16                  -1  1     32096  ultralytics.nn.modules.block.C3k2            [256, 64, 1, False]           \n",
      " 17                  -1  1     36992  ultralytics.nn.modules.conv.Conv             [64, 64, 3, 2]                \n",
      " 18            [-1, 13]  1         0  ultralytics.nn.modules.conv.Concat           [1]                           \n",
      " 19                  -1  1     86720  ultralytics.nn.modules.block.C3k2            [192, 128, 1, False]          \n",
      " 20                  -1  1    147712  ultralytics.nn.modules.conv.Conv             [128, 128, 3, 2]              \n",
      " 21            [-1, 10]  1         0  ultralytics.nn.modules.conv.Concat           [1]                           \n",
      " 22                  -1  1    378880  ultralytics.nn.modules.block.C3k2            [384, 256, 1, True]           \n",
      " 23        [16, 19, 22]  1    683830  ultralytics.nn.modules.head.Segment          [2, 32, 64, [64, 128, 256]]   \n",
      "YOLO11n-seg summary: 355 layers, 2,842,998 parameters, 2,842,982 gradients\n",
      "\n",
      "Transferred 510/561 items from pretrained weights\n",
      "Freezing layer 'model.23.dfl.conv.weight'\n",
      "\u001b[34m\u001b[1mAMP: \u001b[0mrunning Automatic Mixed Precision (AMP) checks...\n",
      "\u001b[34m\u001b[1mAMP: \u001b[0mchecks passed \n"
     ]
    },
    {
     "name": "stderr",
     "output_type": "stream",
     "text": [
      "\u001b[34m\u001b[1mtrain: \u001b[0mScanning C:\\Users\\jdhoc\\Desktop\\DOT Volunteer Project\\data\\labels\\cool-roofs_filteredBldgs_randSub1_5120px\\segment\\labels\\train.cache... 157 images, 0 backgrounds, 0 corrupt: 100%|██████████| 157/157 [00:00<?, ?it/s]"
     ]
    },
    {
     "name": "stdout",
     "output_type": "stream",
     "text": [
      "\u001b[34m\u001b[1mtrain: \u001b[0mWARNING  C:\\Users\\jdhoc\\Desktop\\DOT Volunteer Project\\data\\labels\\cool-roofs_filteredBldgs_randSub1_5120px\\segment\\images\\train\\NYCortho2022_1053.jpg: 6 duplicate labels removed\n",
      "\u001b[34m\u001b[1mtrain: \u001b[0mWARNING  C:\\Users\\jdhoc\\Desktop\\DOT Volunteer Project\\data\\labels\\cool-roofs_filteredBldgs_randSub1_5120px\\segment\\images\\train\\NYCortho2022_1057.jpg: 2 duplicate labels removed\n",
      "\u001b[34m\u001b[1mtrain: \u001b[0mWARNING  C:\\Users\\jdhoc\\Desktop\\DOT Volunteer Project\\data\\labels\\cool-roofs_filteredBldgs_randSub1_5120px\\segment\\images\\train\\NYCortho2022_1236.jpg: 1 duplicate labels removed\n",
      "\u001b[34m\u001b[1mtrain: \u001b[0mWARNING  C:\\Users\\jdhoc\\Desktop\\DOT Volunteer Project\\data\\labels\\cool-roofs_filteredBldgs_randSub1_5120px\\segment\\images\\train\\NYCortho2022_1301.jpg: 2 duplicate labels removed\n",
      "\u001b[34m\u001b[1mtrain: \u001b[0mWARNING  C:\\Users\\jdhoc\\Desktop\\DOT Volunteer Project\\data\\labels\\cool-roofs_filteredBldgs_randSub1_5120px\\segment\\images\\train\\NYCortho2022_1442.jpg: 7 duplicate labels removed\n",
      "\u001b[34m\u001b[1mtrain: \u001b[0mWARNING  C:\\Users\\jdhoc\\Desktop\\DOT Volunteer Project\\data\\labels\\cool-roofs_filteredBldgs_randSub1_5120px\\segment\\images\\train\\NYCortho2022_1516.jpg: 1 duplicate labels removed\n",
      "\u001b[34m\u001b[1mtrain: \u001b[0mWARNING  C:\\Users\\jdhoc\\Desktop\\DOT Volunteer Project\\data\\labels\\cool-roofs_filteredBldgs_randSub1_5120px\\segment\\images\\train\\NYCortho2022_1570.jpg: 2 duplicate labels removed\n",
      "\u001b[34m\u001b[1mtrain: \u001b[0mWARNING  C:\\Users\\jdhoc\\Desktop\\DOT Volunteer Project\\data\\labels\\cool-roofs_filteredBldgs_randSub1_5120px\\segment\\images\\train\\NYCortho2022_1630.jpg: 11 duplicate labels removed\n",
      "\u001b[34m\u001b[1mtrain: \u001b[0mWARNING  C:\\Users\\jdhoc\\Desktop\\DOT Volunteer Project\\data\\labels\\cool-roofs_filteredBldgs_randSub1_5120px\\segment\\images\\train\\NYCortho2022_1636.jpg: 2 duplicate labels removed\n",
      "\u001b[34m\u001b[1mtrain: \u001b[0mWARNING  C:\\Users\\jdhoc\\Desktop\\DOT Volunteer Project\\data\\labels\\cool-roofs_filteredBldgs_randSub1_5120px\\segment\\images\\train\\NYCortho2022_1650.jpg: 2 duplicate labels removed\n",
      "\u001b[34m\u001b[1mtrain: \u001b[0mWARNING  C:\\Users\\jdhoc\\Desktop\\DOT Volunteer Project\\data\\labels\\cool-roofs_filteredBldgs_randSub1_5120px\\segment\\images\\train\\NYCortho2022_1692.jpg: 1 duplicate labels removed\n",
      "\u001b[34m\u001b[1mtrain: \u001b[0mWARNING  C:\\Users\\jdhoc\\Desktop\\DOT Volunteer Project\\data\\labels\\cool-roofs_filteredBldgs_randSub1_5120px\\segment\\images\\train\\NYCortho2022_1697.jpg: 8 duplicate labels removed\n",
      "\u001b[34m\u001b[1mtrain: \u001b[0mWARNING  C:\\Users\\jdhoc\\Desktop\\DOT Volunteer Project\\data\\labels\\cool-roofs_filteredBldgs_randSub1_5120px\\segment\\images\\train\\NYCortho2022_1708.jpg: 2 duplicate labels removed\n",
      "\u001b[34m\u001b[1mtrain: \u001b[0mWARNING  C:\\Users\\jdhoc\\Desktop\\DOT Volunteer Project\\data\\labels\\cool-roofs_filteredBldgs_randSub1_5120px\\segment\\images\\train\\NYCortho2022_1715.jpg: 2 duplicate labels removed\n",
      "\u001b[34m\u001b[1mtrain: \u001b[0mWARNING  C:\\Users\\jdhoc\\Desktop\\DOT Volunteer Project\\data\\labels\\cool-roofs_filteredBldgs_randSub1_5120px\\segment\\images\\train\\NYCortho2022_1774.jpg: 3 duplicate labels removed\n",
      "\u001b[34m\u001b[1mtrain: \u001b[0mWARNING  C:\\Users\\jdhoc\\Desktop\\DOT Volunteer Project\\data\\labels\\cool-roofs_filteredBldgs_randSub1_5120px\\segment\\images\\train\\NYCortho2022_1775.jpg: 2 duplicate labels removed\n",
      "\u001b[34m\u001b[1mtrain: \u001b[0mWARNING  C:\\Users\\jdhoc\\Desktop\\DOT Volunteer Project\\data\\labels\\cool-roofs_filteredBldgs_randSub1_5120px\\segment\\images\\train\\NYCortho2022_1824.jpg: 3 duplicate labels removed\n",
      "\u001b[34m\u001b[1mtrain: \u001b[0mWARNING  C:\\Users\\jdhoc\\Desktop\\DOT Volunteer Project\\data\\labels\\cool-roofs_filteredBldgs_randSub1_5120px\\segment\\images\\train\\NYCortho2022_1826.jpg: 13 duplicate labels removed\n",
      "\u001b[34m\u001b[1mtrain: \u001b[0mWARNING  C:\\Users\\jdhoc\\Desktop\\DOT Volunteer Project\\data\\labels\\cool-roofs_filteredBldgs_randSub1_5120px\\segment\\images\\train\\NYCortho2022_1839.jpg: 3 duplicate labels removed\n",
      "\u001b[34m\u001b[1mtrain: \u001b[0mWARNING  C:\\Users\\jdhoc\\Desktop\\DOT Volunteer Project\\data\\labels\\cool-roofs_filteredBldgs_randSub1_5120px\\segment\\images\\train\\NYCortho2022_1841.jpg: 1 duplicate labels removed\n",
      "\u001b[34m\u001b[1mtrain: \u001b[0mWARNING  C:\\Users\\jdhoc\\Desktop\\DOT Volunteer Project\\data\\labels\\cool-roofs_filteredBldgs_randSub1_5120px\\segment\\images\\train\\NYCortho2022_1894.jpg: 11 duplicate labels removed\n",
      "\u001b[34m\u001b[1mtrain: \u001b[0mWARNING  C:\\Users\\jdhoc\\Desktop\\DOT Volunteer Project\\data\\labels\\cool-roofs_filteredBldgs_randSub1_5120px\\segment\\images\\train\\NYCortho2022_1960.jpg: 1 duplicate labels removed\n",
      "\u001b[34m\u001b[1mtrain: \u001b[0mWARNING  C:\\Users\\jdhoc\\Desktop\\DOT Volunteer Project\\data\\labels\\cool-roofs_filteredBldgs_randSub1_5120px\\segment\\images\\train\\NYCortho2022_200.jpg: 2 duplicate labels removed\n",
      "\u001b[34m\u001b[1mtrain: \u001b[0mWARNING  C:\\Users\\jdhoc\\Desktop\\DOT Volunteer Project\\data\\labels\\cool-roofs_filteredBldgs_randSub1_5120px\\segment\\images\\train\\NYCortho2022_2014.jpg: 2 duplicate labels removed\n",
      "\u001b[34m\u001b[1mtrain: \u001b[0mWARNING  C:\\Users\\jdhoc\\Desktop\\DOT Volunteer Project\\data\\labels\\cool-roofs_filteredBldgs_randSub1_5120px\\segment\\images\\train\\NYCortho2022_2080.jpg: 1 duplicate labels removed\n",
      "\u001b[34m\u001b[1mtrain: \u001b[0mWARNING  C:\\Users\\jdhoc\\Desktop\\DOT Volunteer Project\\data\\labels\\cool-roofs_filteredBldgs_randSub1_5120px\\segment\\images\\train\\NYCortho2022_2083.jpg: 12 duplicate labels removed\n",
      "\u001b[34m\u001b[1mtrain: \u001b[0mWARNING  C:\\Users\\jdhoc\\Desktop\\DOT Volunteer Project\\data\\labels\\cool-roofs_filteredBldgs_randSub1_5120px\\segment\\images\\train\\NYCortho2022_2140.jpg: 2 duplicate labels removed\n",
      "\u001b[34m\u001b[1mtrain: \u001b[0mWARNING  C:\\Users\\jdhoc\\Desktop\\DOT Volunteer Project\\data\\labels\\cool-roofs_filteredBldgs_randSub1_5120px\\segment\\images\\train\\NYCortho2022_2143.jpg: 8 duplicate labels removed\n",
      "\u001b[34m\u001b[1mtrain: \u001b[0mWARNING  C:\\Users\\jdhoc\\Desktop\\DOT Volunteer Project\\data\\labels\\cool-roofs_filteredBldgs_randSub1_5120px\\segment\\images\\train\\NYCortho2022_2156.jpg: 2 duplicate labels removed\n",
      "\u001b[34m\u001b[1mtrain: \u001b[0mWARNING  C:\\Users\\jdhoc\\Desktop\\DOT Volunteer Project\\data\\labels\\cool-roofs_filteredBldgs_randSub1_5120px\\segment\\images\\train\\NYCortho2022_2205.jpg: 2 duplicate labels removed\n",
      "\u001b[34m\u001b[1mtrain: \u001b[0mWARNING  C:\\Users\\jdhoc\\Desktop\\DOT Volunteer Project\\data\\labels\\cool-roofs_filteredBldgs_randSub1_5120px\\segment\\images\\train\\NYCortho2022_2210.jpg: 7 duplicate labels removed\n",
      "\u001b[34m\u001b[1mtrain: \u001b[0mWARNING  C:\\Users\\jdhoc\\Desktop\\DOT Volunteer Project\\data\\labels\\cool-roofs_filteredBldgs_randSub1_5120px\\segment\\images\\train\\NYCortho2022_2214.jpg: 2 duplicate labels removed\n",
      "\u001b[34m\u001b[1mtrain: \u001b[0mWARNING  C:\\Users\\jdhoc\\Desktop\\DOT Volunteer Project\\data\\labels\\cool-roofs_filteredBldgs_randSub1_5120px\\segment\\images\\train\\NYCortho2022_2217.jpg: 1 duplicate labels removed\n",
      "\u001b[34m\u001b[1mtrain: \u001b[0mWARNING  C:\\Users\\jdhoc\\Desktop\\DOT Volunteer Project\\data\\labels\\cool-roofs_filteredBldgs_randSub1_5120px\\segment\\images\\train\\NYCortho2022_2270.jpg: 3 duplicate labels removed\n",
      "\u001b[34m\u001b[1mtrain: \u001b[0mWARNING  C:\\Users\\jdhoc\\Desktop\\DOT Volunteer Project\\data\\labels\\cool-roofs_filteredBldgs_randSub1_5120px\\segment\\images\\train\\NYCortho2022_2278.jpg: 3 duplicate labels removed\n",
      "\u001b[34m\u001b[1mtrain: \u001b[0mWARNING  C:\\Users\\jdhoc\\Desktop\\DOT Volunteer Project\\data\\labels\\cool-roofs_filteredBldgs_randSub1_5120px\\segment\\images\\train\\NYCortho2022_2296.jpg: 1 duplicate labels removed\n",
      "\u001b[34m\u001b[1mtrain: \u001b[0mWARNING  C:\\Users\\jdhoc\\Desktop\\DOT Volunteer Project\\data\\labels\\cool-roofs_filteredBldgs_randSub1_5120px\\segment\\images\\train\\NYCortho2022_2337.jpg: 1 duplicate labels removed\n",
      "\u001b[34m\u001b[1mtrain: \u001b[0mWARNING  C:\\Users\\jdhoc\\Desktop\\DOT Volunteer Project\\data\\labels\\cool-roofs_filteredBldgs_randSub1_5120px\\segment\\images\\train\\NYCortho2022_2361.jpg: 1 duplicate labels removed\n",
      "\u001b[34m\u001b[1mtrain: \u001b[0mWARNING  C:\\Users\\jdhoc\\Desktop\\DOT Volunteer Project\\data\\labels\\cool-roofs_filteredBldgs_randSub1_5120px\\segment\\images\\train\\NYCortho2022_2399.jpg: 5 duplicate labels removed\n",
      "\u001b[34m\u001b[1mtrain: \u001b[0mWARNING  C:\\Users\\jdhoc\\Desktop\\DOT Volunteer Project\\data\\labels\\cool-roofs_filteredBldgs_randSub1_5120px\\segment\\images\\train\\NYCortho2022_2415.jpg: 5 duplicate labels removed\n",
      "\u001b[34m\u001b[1mtrain: \u001b[0mWARNING  C:\\Users\\jdhoc\\Desktop\\DOT Volunteer Project\\data\\labels\\cool-roofs_filteredBldgs_randSub1_5120px\\segment\\images\\train\\NYCortho2022_2422.jpg: 1 duplicate labels removed\n",
      "\u001b[34m\u001b[1mtrain: \u001b[0mWARNING  C:\\Users\\jdhoc\\Desktop\\DOT Volunteer Project\\data\\labels\\cool-roofs_filteredBldgs_randSub1_5120px\\segment\\images\\train\\NYCortho2022_2487.jpg: 1 duplicate labels removed\n",
      "\u001b[34m\u001b[1mtrain: \u001b[0mWARNING  C:\\Users\\jdhoc\\Desktop\\DOT Volunteer Project\\data\\labels\\cool-roofs_filteredBldgs_randSub1_5120px\\segment\\images\\train\\NYCortho2022_2490.jpg: 1 duplicate labels removed\n",
      "\u001b[34m\u001b[1mtrain: \u001b[0mWARNING  C:\\Users\\jdhoc\\Desktop\\DOT Volunteer Project\\data\\labels\\cool-roofs_filteredBldgs_randSub1_5120px\\segment\\images\\train\\NYCortho2022_2551.jpg: 1 duplicate labels removed\n",
      "\u001b[34m\u001b[1mtrain: \u001b[0mWARNING  C:\\Users\\jdhoc\\Desktop\\DOT Volunteer Project\\data\\labels\\cool-roofs_filteredBldgs_randSub1_5120px\\segment\\images\\train\\NYCortho2022_2663.jpg: 13 duplicate labels removed\n",
      "\u001b[34m\u001b[1mtrain: \u001b[0mWARNING  C:\\Users\\jdhoc\\Desktop\\DOT Volunteer Project\\data\\labels\\cool-roofs_filteredBldgs_randSub1_5120px\\segment\\images\\train\\NYCortho2022_2787.jpg: 2 duplicate labels removed\n",
      "\u001b[34m\u001b[1mtrain: \u001b[0mWARNING  C:\\Users\\jdhoc\\Desktop\\DOT Volunteer Project\\data\\labels\\cool-roofs_filteredBldgs_randSub1_5120px\\segment\\images\\train\\NYCortho2022_2978.jpg: 1 duplicate labels removed\n",
      "\u001b[34m\u001b[1mtrain: \u001b[0mWARNING  C:\\Users\\jdhoc\\Desktop\\DOT Volunteer Project\\data\\labels\\cool-roofs_filteredBldgs_randSub1_5120px\\segment\\images\\train\\NYCortho2022_3045.jpg: 2 duplicate labels removed\n",
      "\u001b[34m\u001b[1mtrain: \u001b[0mWARNING  C:\\Users\\jdhoc\\Desktop\\DOT Volunteer Project\\data\\labels\\cool-roofs_filteredBldgs_randSub1_5120px\\segment\\images\\train\\NYCortho2022_3046.jpg: 1 duplicate labels removed\n",
      "\u001b[34m\u001b[1mtrain: \u001b[0mWARNING  C:\\Users\\jdhoc\\Desktop\\DOT Volunteer Project\\data\\labels\\cool-roofs_filteredBldgs_randSub1_5120px\\segment\\images\\train\\NYCortho2022_3107.jpg: 1 duplicate labels removed\n",
      "\u001b[34m\u001b[1mtrain: \u001b[0mWARNING  C:\\Users\\jdhoc\\Desktop\\DOT Volunteer Project\\data\\labels\\cool-roofs_filteredBldgs_randSub1_5120px\\segment\\images\\train\\NYCortho2022_3178.jpg: 3 duplicate labels removed\n",
      "\u001b[34m\u001b[1mtrain: \u001b[0mWARNING  C:\\Users\\jdhoc\\Desktop\\DOT Volunteer Project\\data\\labels\\cool-roofs_filteredBldgs_randSub1_5120px\\segment\\images\\train\\NYCortho2022_3236.jpg: 3 duplicate labels removed\n",
      "\u001b[34m\u001b[1mtrain: \u001b[0mWARNING  C:\\Users\\jdhoc\\Desktop\\DOT Volunteer Project\\data\\labels\\cool-roofs_filteredBldgs_randSub1_5120px\\segment\\images\\train\\NYCortho2022_3238.jpg: 2 duplicate labels removed\n",
      "\u001b[34m\u001b[1mtrain: \u001b[0mWARNING  C:\\Users\\jdhoc\\Desktop\\DOT Volunteer Project\\data\\labels\\cool-roofs_filteredBldgs_randSub1_5120px\\segment\\images\\train\\NYCortho2022_3367.jpg: 1 duplicate labels removed\n",
      "\u001b[34m\u001b[1mtrain: \u001b[0mWARNING  C:\\Users\\jdhoc\\Desktop\\DOT Volunteer Project\\data\\labels\\cool-roofs_filteredBldgs_randSub1_5120px\\segment\\images\\train\\NYCortho2022_3431.jpg: 2 duplicate labels removed\n",
      "\u001b[34m\u001b[1mtrain: \u001b[0mWARNING  C:\\Users\\jdhoc\\Desktop\\DOT Volunteer Project\\data\\labels\\cool-roofs_filteredBldgs_randSub1_5120px\\segment\\images\\train\\NYCortho2022_525.jpg: 1 duplicate labels removed\n",
      "\u001b[34m\u001b[1mtrain: \u001b[0mWARNING  C:\\Users\\jdhoc\\Desktop\\DOT Volunteer Project\\data\\labels\\cool-roofs_filteredBldgs_randSub1_5120px\\segment\\images\\train\\NYCortho2022_844.jpg: 9 duplicate labels removed\n",
      "\u001b[34m\u001b[1mtrain: \u001b[0mWARNING  C:\\Users\\jdhoc\\Desktop\\DOT Volunteer Project\\data\\labels\\cool-roofs_filteredBldgs_randSub1_5120px\\segment\\images\\train\\NYCortho2022_980.jpg: 1 duplicate labels removed\n"
     ]
    },
    {
     "name": "stderr",
     "output_type": "stream",
     "text": [
      "\n",
      "\u001b[34m\u001b[1mtrain: \u001b[0mCaching images (11.5GB Disk): 100%|██████████| 157/157 [00:00<00:00, 24514.40it/s]\n",
      "\u001b[34m\u001b[1mval: \u001b[0mScanning C:\\Users\\jdhoc\\Desktop\\DOT Volunteer Project\\data\\labels\\cool-roofs_filteredBldgs_randSub1_5120px\\segment\\labels\\val.cache... 39 images, 0 backgrounds, 0 corrupt: 100%|██████████| 39/39 [00:00<?, ?it/s]"
     ]
    },
    {
     "name": "stdout",
     "output_type": "stream",
     "text": [
      "\u001b[34m\u001b[1mval: \u001b[0mWARNING  C:\\Users\\jdhoc\\Desktop\\DOT Volunteer Project\\data\\labels\\cool-roofs_filteredBldgs_randSub1_5120px\\segment\\images\\val\\NYCortho2022_1055.jpg: 3 duplicate labels removed\n",
      "\u001b[34m\u001b[1mval: \u001b[0mWARNING  C:\\Users\\jdhoc\\Desktop\\DOT Volunteer Project\\data\\labels\\cool-roofs_filteredBldgs_randSub1_5120px\\segment\\images\\val\\NYCortho2022_1233.jpg: 2 duplicate labels removed\n",
      "\u001b[34m\u001b[1mval: \u001b[0mWARNING  C:\\Users\\jdhoc\\Desktop\\DOT Volunteer Project\\data\\labels\\cool-roofs_filteredBldgs_randSub1_5120px\\segment\\images\\val\\NYCortho2022_1374.jpg: 6 duplicate labels removed\n",
      "\u001b[34m\u001b[1mval: \u001b[0mWARNING  C:\\Users\\jdhoc\\Desktop\\DOT Volunteer Project\\data\\labels\\cool-roofs_filteredBldgs_randSub1_5120px\\segment\\images\\val\\NYCortho2022_1506.jpg: 1 duplicate labels removed\n",
      "\u001b[34m\u001b[1mval: \u001b[0mWARNING  C:\\Users\\jdhoc\\Desktop\\DOT Volunteer Project\\data\\labels\\cool-roofs_filteredBldgs_randSub1_5120px\\segment\\images\\val\\NYCortho2022_1565.jpg: 1 duplicate labels removed\n",
      "\u001b[34m\u001b[1mval: \u001b[0mWARNING  C:\\Users\\jdhoc\\Desktop\\DOT Volunteer Project\\data\\labels\\cool-roofs_filteredBldgs_randSub1_5120px\\segment\\images\\val\\NYCortho2022_1844.jpg: 1 duplicate labels removed\n",
      "\u001b[34m\u001b[1mval: \u001b[0mWARNING  C:\\Users\\jdhoc\\Desktop\\DOT Volunteer Project\\data\\labels\\cool-roofs_filteredBldgs_randSub1_5120px\\segment\\images\\val\\NYCortho2022_2142.jpg: 10 duplicate labels removed\n",
      "\u001b[34m\u001b[1mval: \u001b[0mWARNING  C:\\Users\\jdhoc\\Desktop\\DOT Volunteer Project\\data\\labels\\cool-roofs_filteredBldgs_randSub1_5120px\\segment\\images\\val\\NYCortho2022_2336.jpg: 4 duplicate labels removed\n",
      "\u001b[34m\u001b[1mval: \u001b[0mWARNING  C:\\Users\\jdhoc\\Desktop\\DOT Volunteer Project\\data\\labels\\cool-roofs_filteredBldgs_randSub1_5120px\\segment\\images\\val\\NYCortho2022_2470.jpg: 3 duplicate labels removed\n",
      "\u001b[34m\u001b[1mval: \u001b[0mWARNING  C:\\Users\\jdhoc\\Desktop\\DOT Volunteer Project\\data\\labels\\cool-roofs_filteredBldgs_randSub1_5120px\\segment\\images\\val\\NYCortho2022_2788.jpg: 5 duplicate labels removed\n",
      "\u001b[34m\u001b[1mval: \u001b[0mWARNING  C:\\Users\\jdhoc\\Desktop\\DOT Volunteer Project\\data\\labels\\cool-roofs_filteredBldgs_randSub1_5120px\\segment\\images\\val\\NYCortho2022_2850.jpg: 3 duplicate labels removed\n",
      "\u001b[34m\u001b[1mval: \u001b[0mWARNING  C:\\Users\\jdhoc\\Desktop\\DOT Volunteer Project\\data\\labels\\cool-roofs_filteredBldgs_randSub1_5120px\\segment\\images\\val\\NYCortho2022_3631.jpg: 1 duplicate labels removed\n",
      "\u001b[34m\u001b[1mval: \u001b[0mWARNING  C:\\Users\\jdhoc\\Desktop\\DOT Volunteer Project\\data\\labels\\cool-roofs_filteredBldgs_randSub1_5120px\\segment\\images\\val\\NYCortho2022_396.jpg: 1 duplicate labels removed\n",
      "\u001b[34m\u001b[1mval: \u001b[0mWARNING  C:\\Users\\jdhoc\\Desktop\\DOT Volunteer Project\\data\\labels\\cool-roofs_filteredBldgs_randSub1_5120px\\segment\\images\\val\\NYCortho2022_520.jpg: 1 duplicate labels removed\n",
      "\u001b[34m\u001b[1mval: \u001b[0mWARNING  C:\\Users\\jdhoc\\Desktop\\DOT Volunteer Project\\data\\labels\\cool-roofs_filteredBldgs_randSub1_5120px\\segment\\images\\val\\NYCortho2022_800.jpg: 3 duplicate labels removed\n",
      "\u001b[34m\u001b[1mval: \u001b[0mWARNING  C:\\Users\\jdhoc\\Desktop\\DOT Volunteer Project\\data\\labels\\cool-roofs_filteredBldgs_randSub1_5120px\\segment\\images\\val\\NYCortho2022_993.jpg: 1 duplicate labels removed\n"
     ]
    },
    {
     "name": "stderr",
     "output_type": "stream",
     "text": [
      "\n",
      "\u001b[34m\u001b[1mval: \u001b[0mCaching images (2.9GB Disk): 100%|██████████| 39/39 [00:00<00:00, 19492.12it/s]\n"
     ]
    },
    {
     "name": "stdout",
     "output_type": "stream",
     "text": [
      "Plotting labels to runs\\segment\\train2\\labels.jpg... \n",
      "\u001b[34m\u001b[1moptimizer:\u001b[0m 'optimizer=auto' found, ignoring 'lr0=0.01' and 'momentum=0.937' and determining best 'optimizer', 'lr0' and 'momentum' automatically... \n",
      "\u001b[34m\u001b[1moptimizer:\u001b[0m AdamW(lr=0.001667, momentum=0.9) with parameter groups 90 weight(decay=0.0), 101 weight(decay=0.0005), 100 bias(decay=0.0)\n",
      "Image sizes 5120 train, 5120 val\n",
      "Using 8 dataloader workers\n",
      "Logging results to \u001b[1mruns\\segment\\train2\u001b[0m\n",
      "Starting training for 100 epochs...\n",
      "\n",
      "      Epoch    GPU_mem   box_loss   seg_loss   cls_loss   dfl_loss  Instances       Size\n"
     ]
    },
    {
     "name": "stderr",
     "output_type": "stream",
     "text": [
      "  0%|          | 0/40 [00:00<?, ?it/s]\n"
     ]
    },
    {
     "ename": "RuntimeError",
     "evalue": "Caught MemoryError in DataLoader worker process 0.\nOriginal Traceback (most recent call last):\n  File \"c:\\Users\\jdhoc\\Desktop\\DOT Volunteer Project\\scripts\\.conda\\Lib\\site-packages\\torch\\utils\\data\\_utils\\worker.py\", line 351, in _worker_loop\n    data = fetcher.fetch(index)  # type: ignore[possibly-undefined]\n           ^^^^^^^^^^^^^^^^^^^^\n  File \"c:\\Users\\jdhoc\\Desktop\\DOT Volunteer Project\\scripts\\.conda\\Lib\\site-packages\\torch\\utils\\data\\_utils\\fetch.py\", line 52, in fetch\n    data = [self.dataset[idx] for idx in possibly_batched_index]\n            ~~~~~~~~~~~~^^^^^\n  File \"c:\\Users\\jdhoc\\Desktop\\DOT Volunteer Project\\scripts\\.conda\\Lib\\site-packages\\ultralytics\\data\\base.py\", line 288, in __getitem__\n    return self.transforms(self.get_image_and_label(index))\n           ^^^^^^^^^^^^^^^^^^^^^^^^^^^^^^^^^^^^^^^^^^^^^^^^\n  File \"c:\\Users\\jdhoc\\Desktop\\DOT Volunteer Project\\scripts\\.conda\\Lib\\site-packages\\ultralytics\\data\\augment.py\", line 201, in __call__\n    data = t(data)\n           ^^^^^^^\n  File \"c:\\Users\\jdhoc\\Desktop\\DOT Volunteer Project\\scripts\\.conda\\Lib\\site-packages\\ultralytics\\data\\augment.py\", line 2050, in __call__\n    masks, instances, cls = self._format_segments(instances, cls, w, h)\n                            ^^^^^^^^^^^^^^^^^^^^^^^^^^^^^^^^^^^^^^^^^^^\n  File \"c:\\Users\\jdhoc\\Desktop\\DOT Volunteer Project\\scripts\\.conda\\Lib\\site-packages\\ultralytics\\data\\augment.py\", line 2131, in _format_segments\n    masks, sorted_idx = polygons2masks_overlap((h, w), segments, downsample_ratio=self.mask_ratio)\n                        ^^^^^^^^^^^^^^^^^^^^^^^^^^^^^^^^^^^^^^^^^^^^^^^^^^^^^^^^^^^^^^^^^^^^^^^^^^\n  File \"c:\\Users\\jdhoc\\Desktop\\DOT Volunteer Project\\scripts\\.conda\\Lib\\site-packages\\ultralytics\\data\\utils.py\", line 266, in polygons2masks_overlap\n    mask = polygon2mask(imgsz, [segments[si].reshape(-1)], downsample_ratio=downsample_ratio, color=1)\n           ^^^^^^^^^^^^^^^^^^^^^^^^^^^^^^^^^^^^^^^^^^^^^^^^^^^^^^^^^^^^^^^^^^^^^^^^^^^^^^^^^^^^^^^^^^^\n  File \"c:\\Users\\jdhoc\\Desktop\\DOT Volunteer Project\\scripts\\.conda\\Lib\\site-packages\\ultralytics\\data\\utils.py\", line 231, in polygon2mask\n    mask = np.zeros(imgsz, dtype=np.uint8)\n           ^^^^^^^^^^^^^^^^^^^^^^^^^^^^^^^\nnumpy.core._exceptions._ArrayMemoryError: Unable to allocate 25.0 MiB for an array with shape (5120, 5120) and data type uint8\n",
     "output_type": "error",
     "traceback": [
      "\u001b[1;31m---------------------------------------------------------------------------\u001b[0m",
      "\u001b[1;31mRuntimeError\u001b[0m                              Traceback (most recent call last)",
      "Cell \u001b[1;32mIn[2], line 9\u001b[0m\n\u001b[0;32m      6\u001b[0m model \u001b[38;5;241m=\u001b[39m YOLO(PRETRAINED_MODEL)\n\u001b[0;32m      8\u001b[0m \u001b[38;5;66;03m# Train the model\u001b[39;00m\n\u001b[1;32m----> 9\u001b[0m results \u001b[38;5;241m=\u001b[39m \u001b[43mmodel\u001b[49m\u001b[38;5;241;43m.\u001b[39;49m\u001b[43mtrain\u001b[49m\u001b[43m(\u001b[49m\u001b[43mdata\u001b[49m\u001b[43m \u001b[49m\u001b[38;5;241;43m=\u001b[39;49m\u001b[43m \u001b[49m\u001b[43mCUSTOM_DATASET\u001b[49m\u001b[43m,\u001b[49m\u001b[43m \u001b[49m\u001b[43mepochs\u001b[49m\u001b[43m \u001b[49m\u001b[38;5;241;43m=\u001b[39;49m\u001b[43m \u001b[49m\u001b[38;5;241;43m100\u001b[39;49m\u001b[43m,\u001b[49m\u001b[43m \u001b[49m\u001b[43mpatience\u001b[49m\u001b[43m \u001b[49m\u001b[38;5;241;43m=\u001b[39;49m\u001b[43m \u001b[49m\u001b[38;5;241;43m20\u001b[39;49m\u001b[43m,\u001b[49m\u001b[43m \u001b[49m\u001b[43mbatch\u001b[49m\u001b[43m \u001b[49m\u001b[38;5;241;43m=\u001b[39;49m\u001b[43m \u001b[49m\u001b[38;5;241;43m4\u001b[39;49m\u001b[43m,\u001b[49m\u001b[43m \u001b[49m\u001b[43mimgsz\u001b[49m\u001b[43m \u001b[49m\u001b[38;5;241;43m=\u001b[39;49m\u001b[43m \u001b[49m\u001b[38;5;241;43m5120\u001b[39;49m\u001b[43m,\u001b[49m\u001b[43m \u001b[49m\u001b[43mcache\u001b[49m\u001b[43m \u001b[49m\u001b[38;5;241;43m=\u001b[39;49m\u001b[43m \u001b[49m\u001b[38;5;124;43m\"\u001b[39;49m\u001b[38;5;124;43mdisk\u001b[39;49m\u001b[38;5;124;43m\"\u001b[39;49m\u001b[43m,\u001b[49m\u001b[43m \u001b[49m\u001b[43mdevice\u001b[49m\u001b[43m \u001b[49m\u001b[38;5;241;43m=\u001b[39;49m\u001b[43m \u001b[49m\u001b[38;5;241;43m0\u001b[39;49m\u001b[43m,\u001b[49m\u001b[43m \u001b[49m\u001b[43mdegrees\u001b[49m\u001b[43m \u001b[49m\u001b[38;5;241;43m=\u001b[39;49m\u001b[43m \u001b[49m\u001b[38;5;241;43m90.0\u001b[39;49m\u001b[43m,\u001b[49m\u001b[43m \u001b[49m\u001b[43mscale\u001b[49m\u001b[43m \u001b[49m\u001b[38;5;241;43m=\u001b[39;49m\u001b[43m \u001b[49m\u001b[38;5;241;43m0.5\u001b[39;49m\u001b[43m,\u001b[49m\u001b[43m \u001b[49m\u001b[43mflipud\u001b[49m\u001b[43m \u001b[49m\u001b[38;5;241;43m=\u001b[39;49m\u001b[43m \u001b[49m\u001b[38;5;241;43m0.25\u001b[39;49m\u001b[43m)\u001b[49m\n",
      "File \u001b[1;32mc:\\Users\\jdhoc\\Desktop\\DOT Volunteer Project\\scripts\\.conda\\Lib\\site-packages\\ultralytics\\engine\\model.py:806\u001b[0m, in \u001b[0;36mModel.train\u001b[1;34m(self, trainer, **kwargs)\u001b[0m\n\u001b[0;32m    803\u001b[0m     \u001b[38;5;28mself\u001b[39m\u001b[38;5;241m.\u001b[39mmodel \u001b[38;5;241m=\u001b[39m \u001b[38;5;28mself\u001b[39m\u001b[38;5;241m.\u001b[39mtrainer\u001b[38;5;241m.\u001b[39mmodel\n\u001b[0;32m    805\u001b[0m \u001b[38;5;28mself\u001b[39m\u001b[38;5;241m.\u001b[39mtrainer\u001b[38;5;241m.\u001b[39mhub_session \u001b[38;5;241m=\u001b[39m \u001b[38;5;28mself\u001b[39m\u001b[38;5;241m.\u001b[39msession  \u001b[38;5;66;03m# attach optional HUB session\u001b[39;00m\n\u001b[1;32m--> 806\u001b[0m \u001b[38;5;28;43mself\u001b[39;49m\u001b[38;5;241;43m.\u001b[39;49m\u001b[43mtrainer\u001b[49m\u001b[38;5;241;43m.\u001b[39;49m\u001b[43mtrain\u001b[49m\u001b[43m(\u001b[49m\u001b[43m)\u001b[49m\n\u001b[0;32m    807\u001b[0m \u001b[38;5;66;03m# Update model and cfg after training\u001b[39;00m\n\u001b[0;32m    808\u001b[0m \u001b[38;5;28;01mif\u001b[39;00m RANK \u001b[38;5;129;01min\u001b[39;00m {\u001b[38;5;241m-\u001b[39m\u001b[38;5;241m1\u001b[39m, \u001b[38;5;241m0\u001b[39m}:\n",
      "File \u001b[1;32mc:\\Users\\jdhoc\\Desktop\\DOT Volunteer Project\\scripts\\.conda\\Lib\\site-packages\\ultralytics\\engine\\trainer.py:207\u001b[0m, in \u001b[0;36mBaseTrainer.train\u001b[1;34m(self)\u001b[0m\n\u001b[0;32m    204\u001b[0m         ddp_cleanup(\u001b[38;5;28mself\u001b[39m, \u001b[38;5;28mstr\u001b[39m(file))\n\u001b[0;32m    206\u001b[0m \u001b[38;5;28;01melse\u001b[39;00m:\n\u001b[1;32m--> 207\u001b[0m     \u001b[38;5;28;43mself\u001b[39;49m\u001b[38;5;241;43m.\u001b[39;49m\u001b[43m_do_train\u001b[49m\u001b[43m(\u001b[49m\u001b[43mworld_size\u001b[49m\u001b[43m)\u001b[49m\n",
      "File \u001b[1;32mc:\\Users\\jdhoc\\Desktop\\DOT Volunteer Project\\scripts\\.conda\\Lib\\site-packages\\ultralytics\\engine\\trainer.py:362\u001b[0m, in \u001b[0;36mBaseTrainer._do_train\u001b[1;34m(self, world_size)\u001b[0m\n\u001b[0;32m    360\u001b[0m     pbar \u001b[38;5;241m=\u001b[39m TQDM(\u001b[38;5;28menumerate\u001b[39m(\u001b[38;5;28mself\u001b[39m\u001b[38;5;241m.\u001b[39mtrain_loader), total\u001b[38;5;241m=\u001b[39mnb)\n\u001b[0;32m    361\u001b[0m \u001b[38;5;28mself\u001b[39m\u001b[38;5;241m.\u001b[39mtloss \u001b[38;5;241m=\u001b[39m \u001b[38;5;28;01mNone\u001b[39;00m\n\u001b[1;32m--> 362\u001b[0m \u001b[43m\u001b[49m\u001b[38;5;28;43;01mfor\u001b[39;49;00m\u001b[43m \u001b[49m\u001b[43mi\u001b[49m\u001b[43m,\u001b[49m\u001b[43m \u001b[49m\u001b[43mbatch\u001b[49m\u001b[43m \u001b[49m\u001b[38;5;129;43;01min\u001b[39;49;00m\u001b[43m \u001b[49m\u001b[43mpbar\u001b[49m\u001b[43m:\u001b[49m\n\u001b[0;32m    363\u001b[0m \u001b[43m    \u001b[49m\u001b[38;5;28;43mself\u001b[39;49m\u001b[38;5;241;43m.\u001b[39;49m\u001b[43mrun_callbacks\u001b[49m\u001b[43m(\u001b[49m\u001b[38;5;124;43m\"\u001b[39;49m\u001b[38;5;124;43mon_train_batch_start\u001b[39;49m\u001b[38;5;124;43m\"\u001b[39;49m\u001b[43m)\u001b[49m\n\u001b[0;32m    364\u001b[0m \u001b[43m    \u001b[49m\u001b[38;5;66;43;03m# Warmup\u001b[39;49;00m\n",
      "File \u001b[1;32mc:\\Users\\jdhoc\\Desktop\\DOT Volunteer Project\\scripts\\.conda\\Lib\\site-packages\\tqdm\\std.py:1181\u001b[0m, in \u001b[0;36mtqdm.__iter__\u001b[1;34m(self)\u001b[0m\n\u001b[0;32m   1178\u001b[0m time \u001b[38;5;241m=\u001b[39m \u001b[38;5;28mself\u001b[39m\u001b[38;5;241m.\u001b[39m_time\n\u001b[0;32m   1180\u001b[0m \u001b[38;5;28;01mtry\u001b[39;00m:\n\u001b[1;32m-> 1181\u001b[0m \u001b[43m    \u001b[49m\u001b[38;5;28;43;01mfor\u001b[39;49;00m\u001b[43m \u001b[49m\u001b[43mobj\u001b[49m\u001b[43m \u001b[49m\u001b[38;5;129;43;01min\u001b[39;49;00m\u001b[43m \u001b[49m\u001b[43miterable\u001b[49m\u001b[43m:\u001b[49m\n\u001b[0;32m   1182\u001b[0m \u001b[43m        \u001b[49m\u001b[38;5;28;43;01myield\u001b[39;49;00m\u001b[43m \u001b[49m\u001b[43mobj\u001b[49m\n\u001b[0;32m   1183\u001b[0m \u001b[43m        \u001b[49m\u001b[38;5;66;43;03m# Update and possibly print the progressbar.\u001b[39;49;00m\n\u001b[0;32m   1184\u001b[0m \u001b[43m        \u001b[49m\u001b[38;5;66;43;03m# Note: does not call self.update(1) for speed optimisation.\u001b[39;49;00m\n",
      "File \u001b[1;32mc:\\Users\\jdhoc\\Desktop\\DOT Volunteer Project\\scripts\\.conda\\Lib\\site-packages\\ultralytics\\data\\build.py:48\u001b[0m, in \u001b[0;36mInfiniteDataLoader.__iter__\u001b[1;34m(self)\u001b[0m\n\u001b[0;32m     46\u001b[0m \u001b[38;5;250m\u001b[39m\u001b[38;5;124;03m\"\"\"Creates a sampler that repeats indefinitely.\"\"\"\u001b[39;00m\n\u001b[0;32m     47\u001b[0m \u001b[38;5;28;01mfor\u001b[39;00m _ \u001b[38;5;129;01min\u001b[39;00m \u001b[38;5;28mrange\u001b[39m(\u001b[38;5;28mlen\u001b[39m(\u001b[38;5;28mself\u001b[39m)):\n\u001b[1;32m---> 48\u001b[0m     \u001b[38;5;28;01myield\u001b[39;00m \u001b[38;5;28;43mnext\u001b[39;49m\u001b[43m(\u001b[49m\u001b[38;5;28;43mself\u001b[39;49m\u001b[38;5;241;43m.\u001b[39;49m\u001b[43miterator\u001b[49m\u001b[43m)\u001b[49m\n",
      "File \u001b[1;32mc:\\Users\\jdhoc\\Desktop\\DOT Volunteer Project\\scripts\\.conda\\Lib\\site-packages\\torch\\utils\\data\\dataloader.py:701\u001b[0m, in \u001b[0;36m_BaseDataLoaderIter.__next__\u001b[1;34m(self)\u001b[0m\n\u001b[0;32m    698\u001b[0m \u001b[38;5;28;01mif\u001b[39;00m \u001b[38;5;28mself\u001b[39m\u001b[38;5;241m.\u001b[39m_sampler_iter \u001b[38;5;129;01mis\u001b[39;00m \u001b[38;5;28;01mNone\u001b[39;00m:\n\u001b[0;32m    699\u001b[0m     \u001b[38;5;66;03m# TODO(https://github.com/pytorch/pytorch/issues/76750)\u001b[39;00m\n\u001b[0;32m    700\u001b[0m     \u001b[38;5;28mself\u001b[39m\u001b[38;5;241m.\u001b[39m_reset()  \u001b[38;5;66;03m# type: ignore[call-arg]\u001b[39;00m\n\u001b[1;32m--> 701\u001b[0m data \u001b[38;5;241m=\u001b[39m \u001b[38;5;28;43mself\u001b[39;49m\u001b[38;5;241;43m.\u001b[39;49m\u001b[43m_next_data\u001b[49m\u001b[43m(\u001b[49m\u001b[43m)\u001b[49m\n\u001b[0;32m    702\u001b[0m \u001b[38;5;28mself\u001b[39m\u001b[38;5;241m.\u001b[39m_num_yielded \u001b[38;5;241m+\u001b[39m\u001b[38;5;241m=\u001b[39m \u001b[38;5;241m1\u001b[39m\n\u001b[0;32m    703\u001b[0m \u001b[38;5;28;01mif\u001b[39;00m (\n\u001b[0;32m    704\u001b[0m     \u001b[38;5;28mself\u001b[39m\u001b[38;5;241m.\u001b[39m_dataset_kind \u001b[38;5;241m==\u001b[39m _DatasetKind\u001b[38;5;241m.\u001b[39mIterable\n\u001b[0;32m    705\u001b[0m     \u001b[38;5;129;01mand\u001b[39;00m \u001b[38;5;28mself\u001b[39m\u001b[38;5;241m.\u001b[39m_IterableDataset_len_called \u001b[38;5;129;01mis\u001b[39;00m \u001b[38;5;129;01mnot\u001b[39;00m \u001b[38;5;28;01mNone\u001b[39;00m\n\u001b[0;32m    706\u001b[0m     \u001b[38;5;129;01mand\u001b[39;00m \u001b[38;5;28mself\u001b[39m\u001b[38;5;241m.\u001b[39m_num_yielded \u001b[38;5;241m>\u001b[39m \u001b[38;5;28mself\u001b[39m\u001b[38;5;241m.\u001b[39m_IterableDataset_len_called\n\u001b[0;32m    707\u001b[0m ):\n",
      "File \u001b[1;32mc:\\Users\\jdhoc\\Desktop\\DOT Volunteer Project\\scripts\\.conda\\Lib\\site-packages\\torch\\utils\\data\\dataloader.py:1465\u001b[0m, in \u001b[0;36m_MultiProcessingDataLoaderIter._next_data\u001b[1;34m(self)\u001b[0m\n\u001b[0;32m   1463\u001b[0m \u001b[38;5;28;01melse\u001b[39;00m:\n\u001b[0;32m   1464\u001b[0m     \u001b[38;5;28;01mdel\u001b[39;00m \u001b[38;5;28mself\u001b[39m\u001b[38;5;241m.\u001b[39m_task_info[idx]\n\u001b[1;32m-> 1465\u001b[0m     \u001b[38;5;28;01mreturn\u001b[39;00m \u001b[38;5;28;43mself\u001b[39;49m\u001b[38;5;241;43m.\u001b[39;49m\u001b[43m_process_data\u001b[49m\u001b[43m(\u001b[49m\u001b[43mdata\u001b[49m\u001b[43m)\u001b[49m\n",
      "File \u001b[1;32mc:\\Users\\jdhoc\\Desktop\\DOT Volunteer Project\\scripts\\.conda\\Lib\\site-packages\\torch\\utils\\data\\dataloader.py:1491\u001b[0m, in \u001b[0;36m_MultiProcessingDataLoaderIter._process_data\u001b[1;34m(self, data)\u001b[0m\n\u001b[0;32m   1489\u001b[0m \u001b[38;5;28mself\u001b[39m\u001b[38;5;241m.\u001b[39m_try_put_index()\n\u001b[0;32m   1490\u001b[0m \u001b[38;5;28;01mif\u001b[39;00m \u001b[38;5;28misinstance\u001b[39m(data, ExceptionWrapper):\n\u001b[1;32m-> 1491\u001b[0m     \u001b[43mdata\u001b[49m\u001b[38;5;241;43m.\u001b[39;49m\u001b[43mreraise\u001b[49m\u001b[43m(\u001b[49m\u001b[43m)\u001b[49m\n\u001b[0;32m   1492\u001b[0m \u001b[38;5;28;01mreturn\u001b[39;00m data\n",
      "File \u001b[1;32mc:\\Users\\jdhoc\\Desktop\\DOT Volunteer Project\\scripts\\.conda\\Lib\\site-packages\\torch\\_utils.py:714\u001b[0m, in \u001b[0;36mExceptionWrapper.reraise\u001b[1;34m(self)\u001b[0m\n\u001b[0;32m    710\u001b[0m     exception \u001b[38;5;241m=\u001b[39m \u001b[38;5;28mself\u001b[39m\u001b[38;5;241m.\u001b[39mexc_type(msg)\n\u001b[0;32m    711\u001b[0m \u001b[38;5;28;01mexcept\u001b[39;00m \u001b[38;5;167;01mTypeError\u001b[39;00m:\n\u001b[0;32m    712\u001b[0m     \u001b[38;5;66;03m# If the exception takes multiple arguments, don't try to\u001b[39;00m\n\u001b[0;32m    713\u001b[0m     \u001b[38;5;66;03m# instantiate since we don't know how to\u001b[39;00m\n\u001b[1;32m--> 714\u001b[0m     \u001b[38;5;28;01mraise\u001b[39;00m \u001b[38;5;167;01mRuntimeError\u001b[39;00m(msg) \u001b[38;5;28;01mfrom\u001b[39;00m \u001b[38;5;28;01mNone\u001b[39;00m\n\u001b[0;32m    715\u001b[0m \u001b[38;5;28;01mraise\u001b[39;00m exception\n",
      "\u001b[1;31mRuntimeError\u001b[0m: Caught MemoryError in DataLoader worker process 0.\nOriginal Traceback (most recent call last):\n  File \"c:\\Users\\jdhoc\\Desktop\\DOT Volunteer Project\\scripts\\.conda\\Lib\\site-packages\\torch\\utils\\data\\_utils\\worker.py\", line 351, in _worker_loop\n    data = fetcher.fetch(index)  # type: ignore[possibly-undefined]\n           ^^^^^^^^^^^^^^^^^^^^\n  File \"c:\\Users\\jdhoc\\Desktop\\DOT Volunteer Project\\scripts\\.conda\\Lib\\site-packages\\torch\\utils\\data\\_utils\\fetch.py\", line 52, in fetch\n    data = [self.dataset[idx] for idx in possibly_batched_index]\n            ~~~~~~~~~~~~^^^^^\n  File \"c:\\Users\\jdhoc\\Desktop\\DOT Volunteer Project\\scripts\\.conda\\Lib\\site-packages\\ultralytics\\data\\base.py\", line 288, in __getitem__\n    return self.transforms(self.get_image_and_label(index))\n           ^^^^^^^^^^^^^^^^^^^^^^^^^^^^^^^^^^^^^^^^^^^^^^^^\n  File \"c:\\Users\\jdhoc\\Desktop\\DOT Volunteer Project\\scripts\\.conda\\Lib\\site-packages\\ultralytics\\data\\augment.py\", line 201, in __call__\n    data = t(data)\n           ^^^^^^^\n  File \"c:\\Users\\jdhoc\\Desktop\\DOT Volunteer Project\\scripts\\.conda\\Lib\\site-packages\\ultralytics\\data\\augment.py\", line 2050, in __call__\n    masks, instances, cls = self._format_segments(instances, cls, w, h)\n                            ^^^^^^^^^^^^^^^^^^^^^^^^^^^^^^^^^^^^^^^^^^^\n  File \"c:\\Users\\jdhoc\\Desktop\\DOT Volunteer Project\\scripts\\.conda\\Lib\\site-packages\\ultralytics\\data\\augment.py\", line 2131, in _format_segments\n    masks, sorted_idx = polygons2masks_overlap((h, w), segments, downsample_ratio=self.mask_ratio)\n                        ^^^^^^^^^^^^^^^^^^^^^^^^^^^^^^^^^^^^^^^^^^^^^^^^^^^^^^^^^^^^^^^^^^^^^^^^^^\n  File \"c:\\Users\\jdhoc\\Desktop\\DOT Volunteer Project\\scripts\\.conda\\Lib\\site-packages\\ultralytics\\data\\utils.py\", line 266, in polygons2masks_overlap\n    mask = polygon2mask(imgsz, [segments[si].reshape(-1)], downsample_ratio=downsample_ratio, color=1)\n           ^^^^^^^^^^^^^^^^^^^^^^^^^^^^^^^^^^^^^^^^^^^^^^^^^^^^^^^^^^^^^^^^^^^^^^^^^^^^^^^^^^^^^^^^^^^\n  File \"c:\\Users\\jdhoc\\Desktop\\DOT Volunteer Project\\scripts\\.conda\\Lib\\site-packages\\ultralytics\\data\\utils.py\", line 231, in polygon2mask\n    mask = np.zeros(imgsz, dtype=np.uint8)\n           ^^^^^^^^^^^^^^^^^^^^^^^^^^^^^^^\nnumpy.core._exceptions._ArrayMemoryError: Unable to allocate 25.0 MiB for an array with shape (5120, 5120) and data type uint8\n"
     ]
    }
   ],
   "source": [
    "# PRETRAINED_MODEL = \"C:/Users/jdhoc/Desktop/DOT Volunteer Project/scripts/yolov11/runs/segment/train2/weights/best.pt\"\n",
    "PRETRAINED_MODEL = \"yolo11n-seg.pt\"\n",
    "CUSTOM_DATASET = \"C:/Users/jdhoc/Desktop/DOT Volunteer Project/data/labels/cool-roofs_filteredBldgs_randSub1_5120px/segment/segment.yaml\"\n",
    "\n",
    "# Load a model\n",
    "model = YOLO(PRETRAINED_MODEL)\n",
    "\n",
    "# Train the model\n",
    "results = model.train(data = CUSTOM_DATASET, epochs = 100, patience = 20, batch = 4, imgsz = 5120, cache = \"disk\", device = 0, degrees = 90.0, scale = 0.5, flipud = 0.25)"
   ]
  }
 ],
 "metadata": {
  "kernelspec": {
   "display_name": "Python 3",
   "language": "python",
   "name": "python3"
  },
  "language_info": {
   "codemirror_mode": {
    "name": "ipython",
    "version": 3
   },
   "file_extension": ".py",
   "mimetype": "text/x-python",
   "name": "python",
   "nbconvert_exporter": "python",
   "pygments_lexer": "ipython3",
   "version": "3.12.7"
  }
 },
 "nbformat": 4,
 "nbformat_minor": 2
}
