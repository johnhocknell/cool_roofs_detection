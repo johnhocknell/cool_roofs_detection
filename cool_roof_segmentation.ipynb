{
 "cells": [
  {
   "cell_type": "code",
   "execution_count": null,
   "metadata": {},
   "outputs": [],
   "source": [
    "from ultralytics import YOLO"
   ]
  },
  {
   "cell_type": "code",
   "execution_count": null,
   "metadata": {},
   "outputs": [],
   "source": [
    "# PRETRAINED_MODEL = \"C:/Users/jdhoc/Desktop/DOT Volunteer Project/scripts/yolov11/runs/segment/train2/weights/best.pt\"\n",
    "PRETRAINED_MODEL = \"C:/Users/jdhoc/Desktop/DOT Volunteer Project/scripts/runs/segment/train/weights/last.pt\"\n",
    "CUSTOM_DATASET = \"C:/Users/jdhoc/Desktop/DOT Volunteer Project/data/labels/cool-roofs_filteredBldgs_randSub1/segment/segment.yaml\"\n",
    "\n",
    "# Load a model\n",
    "model = YOLO(PRETRAINED_MODEL)\n",
    "\n",
    "# Train the model\n",
    "results = model.train(data = CUSTOM_DATASET, epochs = 90, patience = 20, batch = -1, imgsz = 1024, cache = \"disk\", device = 0, degrees = 90.0, scale = 0.5, flipud = 0.25)"
   ]
  }
 ],
 "metadata": {
  "kernelspec": {
   "display_name": "Python 3",
   "language": "python",
   "name": "python3"
  },
  "language_info": {
   "codemirror_mode": {
    "name": "ipython",
    "version": 3
   },
   "file_extension": ".py",
   "mimetype": "text/x-python",
   "name": "python",
   "nbconvert_exporter": "python",
   "pygments_lexer": "ipython3",
   "version": "3.12.7"
  }
 },
 "nbformat": 4,
 "nbformat_minor": 2
}
